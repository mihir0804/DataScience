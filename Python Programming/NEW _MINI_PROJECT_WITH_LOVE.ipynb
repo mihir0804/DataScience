{
 "cells": [
  {
   "cell_type": "markdown",
   "id": "6aaf85db",
   "metadata": {},
   "source": [
    "## PROJECT_HEART."
   ]
  },
  {
   "cell_type": "markdown",
   "id": "6c11a268",
   "metadata": {},
   "source": [
    "### MAKING_HEART"
   ]
  },
  {
   "cell_type": "code",
   "execution_count": 3,
   "id": "324406ae",
   "metadata": {},
   "outputs": [],
   "source": [
    "# HEART_MAKING\n",
    "import turtle\n",
    "\n",
    "# Set up the Turtle environment\n",
    "turtle.speed(3)  # Control the drawing speed\n",
    "turtle.bgcolor('black')  # Set the background color\n",
    "turtle.pensize(3)  # Set the pen thickness\n",
    "\n",
    "# Define the curved part of the heart\n",
    "def func():\n",
    "    for i in range(200):\n",
    "        turtle.right(1)  # Rotate slightly\n",
    "        turtle.forward(1)  # Move forward\n",
    "\n",
    "# Set the pen and fill colors\n",
    "turtle.color('red', 'pink')\n",
    "turtle.begin_fill()\n",
    "\n",
    "# Draw the heart shape\n",
    "turtle.left(140)\n",
    "turtle.forward(111.65)  # Draw the left diagonal line\n",
    "func()  # Draw the left curve\n",
    "turtle.left(120)\n",
    "func()  # Draw the right curve\n",
    "turtle.forward(111.65)  # Draw the right diagonal line\n",
    "\n",
    "turtle.end_fill()  # Fill the heart with the color\n",
    "turtle.hideturtle()  # Hide the turtle cursor\n",
    "turtle.done()  # Finish the drawing"
   ]
  },
  {
   "cell_type": "code",
   "execution_count": 19,
   "id": "22c853f4",
   "metadata": {},
   "outputs": [],
   "source": [
    "import turtle\n",
    "\n",
    "# Set up the Turtle environment\n",
    "turtle.speed(3)\n",
    "turtle.bgcolor('black')\n",
    "turtle.pensize(3)\n",
    "\n",
    "# Define the curved part of the heart\n",
    "def func():\n",
    "    for i in range(200):\n",
    "        turtle.right(1)\n",
    "        turtle.forward(1)\n",
    "\n",
    "# Set the pen and fill colors\n",
    "turtle.color('red', 'pink')\n",
    "turtle.begin_fill()\n",
    "\n",
    "# Draw the heart shape\n",
    "turtle.left(140)\n",
    "turtle.forward(111.65)\n",
    "func()\n",
    "turtle.left(120)\n",
    "func()\n",
    "turtle.forward(111.65)\n",
    "\n",
    "turtle.end_fill()\n",
    "turtle.hideturtle()\n",
    "\n",
    "# Write \"PAPA\" in the center of the heart\n",
    "turtle.penup()\n",
    "turtle.goto(0, 80)\n",
    "turtle.color('red')  # Font color\n",
    "turtle.write(\"PAPA\", align=\"center\", font=(\"Arial\", 24, \"bold\"))\n",
    "\n",
    "turtle.done()\n"
   ]
  }
 ],
 "metadata": {
  "kernelspec": {
   "display_name": "base",
   "language": "python",
   "name": "python3"
  },
  "language_info": {
   "codemirror_mode": {
    "name": "ipython",
    "version": 3
   },
   "file_extension": ".py",
   "mimetype": "text/x-python",
   "name": "python",
   "nbconvert_exporter": "python",
   "pygments_lexer": "ipython3",
   "version": "3.12.7"
  }
 },
 "nbformat": 4,
 "nbformat_minor": 5
}
