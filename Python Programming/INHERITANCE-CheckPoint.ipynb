{
 "cells": [
  {
   "cell_type": "markdown",
   "id": "6c130894",
   "metadata": {},
   "source": [
    "INHERITANCE"
   ]
  },
  {
   "cell_type": "code",
   "execution_count": 7,
   "id": "ef81b7e2",
   "metadata": {},
   "outputs": [
    {
     "name": "stdout",
     "output_type": "stream",
     "text": [
      "Tesla Model S is starting...\n",
      "Tesla Model S is charging with 100 kWh battery.\n",
      "Tesla Model S is stopping...\n"
     ]
    }
   ],
   "source": [
    "# Parent class\n",
    "class Car:\n",
    "    def __init__(self, brand, model):\n",
    "        self.brand = brand\n",
    "        self.model = model\n",
    "\n",
    "    def start(self):\n",
    "        print(f\"{self.brand} {self.model} is starting...\")\n",
    "\n",
    "    def stop(self):\n",
    "        print(f\"{self.brand} {self.model} is stopping...\")\n",
    "\n",
    "\n",
    "# Child class\n",
    "class ElectricCar(Car):\n",
    "    def __init__(self, brand, model, battery_capacity):\n",
    "        super().__init__(brand, model)  # Inherit brand and model\n",
    "        self.battery_capacity = battery_capacity\n",
    "\n",
    "    def charge(self):\n",
    "        print(f\"{self.brand} {self.model} is charging with {self.battery_capacity} kWh battery.\")\n",
    "\n",
    "\n",
    "# Create an object of ElectricCar\n",
    "tesla = ElectricCar(\"Tesla\", \"Model S\", 100)\n",
    "tesla.start()\n",
    "tesla.charge()\n",
    "tesla.stop()\n",
    "             "
   ]
  },
  {
   "cell_type": "code",
   "execution_count": 15,
   "id": "8cd2f97a",
   "metadata": {},
   "outputs": [
    {
     "name": "stdout",
     "output_type": "stream",
     "text": [
      "Honda City is starting...\n",
      "Honda City is refueling with 15 km/l fuel consumption.\n",
      "Honda City is stopping...\n"
     ]
    }
   ],
   "source": [
    "# Parent class\n",
    "class Car:\n",
    "    def __init__(self, brand, model):\n",
    "        self.brand = brand\n",
    "        self.model = model\n",
    "\n",
    "    def start(self):\n",
    "        print(f\"{self.brand} {self.model} is starting...\")\n",
    "\n",
    "    def stop(self):\n",
    "        print(f\"{self.brand} {self.model} is stopping...\")\n",
    "\n",
    "\n",
    "# Child class\n",
    "class HondaCar(Car):\n",
    "    def __init__(self, brand, model, mileage):\n",
    "        super().__init__(brand, model)\n",
    "        self.mileage = mileage\n",
    "\n",
    "    def refuel(self):\n",
    "        print(f\"{self.brand} {self.model} is refueling with {self.mileage} fuel consumption.\")\n",
    "\n",
    "\n",
    "# Create an object of HondaCar\n",
    "honda = HondaCar(\"Honda\", \"City\", \"15 km/l\")\n",
    "honda.start()\n",
    "honda.refuel()\n",
    "honda.stop()\n"
   ]
  },
  {
   "cell_type": "code",
   "execution_count": 18,
   "id": "67a93e9a",
   "metadata": {},
   "outputs": [
    {
     "name": "stdout",
     "output_type": "stream",
     "text": [
      " Name: Mihir Ughade\n",
      " Age: 24\n",
      " Sex: Male\n",
      "Mobile number: 9869480569\n",
      " Name: Kapil Ughade\n",
      " Age: 28\n",
      " Sex: Male\n",
      "Mobile number: 9947628454\n"
     ]
    }
   ],
   "source": [
    "class Institution:\n",
    "    def __init__(self,first_name,last_name,age,sex,mobile_number):\n",
    "        self.first_name = first_name\n",
    "        self.last_name = last_name\n",
    "        self.age = age\n",
    "        self.sex = sex\n",
    "        self.mobile_number = mobile_number\n",
    "\n",
    "    def details(self):\n",
    "        print(f\" Name: {self.first_name} {self.last_name}\")\n",
    "        print(f\" Age: {self.age}\")\n",
    "        print(f\" Sex: {self.sex}\")\n",
    "        print(f\"Mobile number: {self.mobile_number}\")\n",
    "\n",
    "class students(Institution):\n",
    "    def __init__(self, first_name, last_name, age, sex, mobile_number,department):\n",
    "        super().__init__(first_name, last_name, age, sex, mobile_number)\n",
    "        self.department = department\n",
    "\n",
    "class faculty(Institution):\n",
    "    def __init__(self, first_name, last_name, age, sex, mobile_number,experience):\n",
    "        super().__init__(first_name, last_name, age, sex, mobile_number)\n",
    "        self.experience = experience\n",
    "\n",
    "X = students('Mihir','Ughade',24,'Male', 9869480569,'IT')\n",
    "Y = faculty('Kapil','Ughade',28,'Male',9947628454,15)\n",
    "X.details()\n",
    "Y.details()"
   ]
  }
 ],
 "metadata": {
  "kernelspec": {
   "display_name": "base",
   "language": "python",
   "name": "python3"
  },
  "language_info": {
   "codemirror_mode": {
    "name": "ipython",
    "version": 3
   },
   "file_extension": ".py",
   "mimetype": "text/x-python",
   "name": "python",
   "nbconvert_exporter": "python",
   "pygments_lexer": "ipython3",
   "version": "3.12.7"
  }
 },
 "nbformat": 4,
 "nbformat_minor": 5
}
