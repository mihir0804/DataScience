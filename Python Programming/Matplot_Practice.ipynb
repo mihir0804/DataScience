{
 "cells": [
  {
   "cell_type": "code",
   "execution_count": 38,
   "id": "a2d8bed9",
   "metadata": {},
   "outputs": [],
   "source": [
    "# Import Data Visualization Library\n",
    "\n",
    "import seaborn as sns\n",
    "import matplotlib.pyplot as plt"
   ]
  },
  {
   "cell_type": "code",
   "execution_count": 39,
   "id": "2ae830de",
   "metadata": {},
   "outputs": [
    {
     "name": "stdout",
     "output_type": "stream",
     "text": [
      "      Name  Age  Marks  CGPA\n",
      "0   Nikhil   10     34     8\n",
      "1   Aniket   11     56     6\n",
      "2    Mihir   12     67     9\n",
      "3    Tanvi   13     34     6\n",
      "4  Hemangi   14     56     8\n"
     ]
    }
   ],
   "source": [
    "\n",
    "import pandas as pd\n",
    "\n",
    "database = {\n",
    "    'Name': ['Nikhil','Aniket','Mihir','Tanvi','Hemangi'],  # Added empty string to match lengths\n",
    "    'Age': [10, 11, 12, 13, 14],\n",
    "    'Marks': [34, 56, 67, 34, 56],\n",
    "    'CGPA': [8, 6, 9, 6, 8] # have to add Salary\n",
    "}\n",
    "\n",
    "# create a variable df to store the DataFrame\n",
    "df = pd.DataFrame(database)\n",
    "\n",
    "print(df)\n",
    "\n"
   ]
  },
  {
   "cell_type": "code",
   "execution_count": 40,
   "id": "b45a4f88",
   "metadata": {},
   "outputs": [
    {
     "data": {
      "text/html": [
       "<div>\n",
       "<style scoped>\n",
       "    .dataframe tbody tr th:only-of-type {\n",
       "        vertical-align: middle;\n",
       "    }\n",
       "\n",
       "    .dataframe tbody tr th {\n",
       "        vertical-align: top;\n",
       "    }\n",
       "\n",
       "    .dataframe thead th {\n",
       "        text-align: right;\n",
       "    }\n",
       "</style>\n",
       "<table border=\"1\" class=\"dataframe\">\n",
       "  <thead>\n",
       "    <tr style=\"text-align: right;\">\n",
       "      <th></th>\n",
       "      <th>Name</th>\n",
       "      <th>Age</th>\n",
       "      <th>Marks</th>\n",
       "      <th>CGPA</th>\n",
       "    </tr>\n",
       "  </thead>\n",
       "  <tbody>\n",
       "    <tr>\n",
       "      <th>0</th>\n",
       "      <td>Nikhil</td>\n",
       "      <td>10</td>\n",
       "      <td>34</td>\n",
       "      <td>8</td>\n",
       "    </tr>\n",
       "    <tr>\n",
       "      <th>1</th>\n",
       "      <td>Aniket</td>\n",
       "      <td>11</td>\n",
       "      <td>56</td>\n",
       "      <td>6</td>\n",
       "    </tr>\n",
       "    <tr>\n",
       "      <th>2</th>\n",
       "      <td>Mihir</td>\n",
       "      <td>12</td>\n",
       "      <td>67</td>\n",
       "      <td>9</td>\n",
       "    </tr>\n",
       "    <tr>\n",
       "      <th>3</th>\n",
       "      <td>Tanvi</td>\n",
       "      <td>13</td>\n",
       "      <td>34</td>\n",
       "      <td>6</td>\n",
       "    </tr>\n",
       "    <tr>\n",
       "      <th>4</th>\n",
       "      <td>Hemangi</td>\n",
       "      <td>14</td>\n",
       "      <td>56</td>\n",
       "      <td>8</td>\n",
       "    </tr>\n",
       "  </tbody>\n",
       "</table>\n",
       "</div>"
      ],
      "text/plain": [
       "      Name  Age  Marks  CGPA\n",
       "0   Nikhil   10     34     8\n",
       "1   Aniket   11     56     6\n",
       "2    Mihir   12     67     9\n",
       "3    Tanvi   13     34     6\n",
       "4  Hemangi   14     56     8"
      ]
     },
     "execution_count": 40,
     "metadata": {},
     "output_type": "execute_result"
    }
   ],
   "source": [
    "df\n"
   ]
  },
  {
   "cell_type": "code",
   "execution_count": 41,
   "id": "6ce018ad",
   "metadata": {},
   "outputs": [
    {
     "data": {
      "text/html": [
       "<div>\n",
       "<style scoped>\n",
       "    .dataframe tbody tr th:only-of-type {\n",
       "        vertical-align: middle;\n",
       "    }\n",
       "\n",
       "    .dataframe tbody tr th {\n",
       "        vertical-align: top;\n",
       "    }\n",
       "\n",
       "    .dataframe thead th {\n",
       "        text-align: right;\n",
       "    }\n",
       "</style>\n",
       "<table border=\"1\" class=\"dataframe\">\n",
       "  <thead>\n",
       "    <tr style=\"text-align: right;\">\n",
       "      <th></th>\n",
       "      <th>Name</th>\n",
       "      <th>Age</th>\n",
       "      <th>Marks</th>\n",
       "      <th>CGPA</th>\n",
       "    </tr>\n",
       "  </thead>\n",
       "  <tbody>\n",
       "    <tr>\n",
       "      <th>3</th>\n",
       "      <td>Tanvi</td>\n",
       "      <td>13</td>\n",
       "      <td>34</td>\n",
       "      <td>6</td>\n",
       "    </tr>\n",
       "  </tbody>\n",
       "</table>\n",
       "</div>"
      ],
      "text/plain": [
       "    Name  Age  Marks  CGPA\n",
       "3  Tanvi   13     34     6"
      ]
     },
     "execution_count": 41,
     "metadata": {},
     "output_type": "execute_result"
    }
   ],
   "source": [
    "\n",
    "df[df['Name'] == 'Tanvi']"
   ]
  },
  {
   "cell_type": "code",
   "execution_count": 42,
   "id": "79a011ca",
   "metadata": {},
   "outputs": [
    {
     "data": {
      "text/html": [
       "<div>\n",
       "<style scoped>\n",
       "    .dataframe tbody tr th:only-of-type {\n",
       "        vertical-align: middle;\n",
       "    }\n",
       "\n",
       "    .dataframe tbody tr th {\n",
       "        vertical-align: top;\n",
       "    }\n",
       "\n",
       "    .dataframe thead th {\n",
       "        text-align: right;\n",
       "    }\n",
       "</style>\n",
       "<table border=\"1\" class=\"dataframe\">\n",
       "  <thead>\n",
       "    <tr style=\"text-align: right;\">\n",
       "      <th></th>\n",
       "      <th>Name</th>\n",
       "      <th>Age</th>\n",
       "      <th>Marks</th>\n",
       "      <th>CGPA</th>\n",
       "    </tr>\n",
       "  </thead>\n",
       "  <tbody>\n",
       "    <tr>\n",
       "      <th>0</th>\n",
       "      <td>Nikhil</td>\n",
       "      <td>10</td>\n",
       "      <td>34</td>\n",
       "      <td>8</td>\n",
       "    </tr>\n",
       "  </tbody>\n",
       "</table>\n",
       "</div>"
      ],
      "text/plain": [
       "     Name  Age  Marks  CGPA\n",
       "0  Nikhil   10     34     8"
      ]
     },
     "execution_count": 42,
     "metadata": {},
     "output_type": "execute_result"
    }
   ],
   "source": [
    "df[df['Name'] == 'Nikhil']"
   ]
  },
  {
   "cell_type": "code",
   "execution_count": 43,
   "id": "478df303",
   "metadata": {},
   "outputs": [
    {
     "data": {
      "text/plain": [
       "min     34.0\n",
       "max     67.0\n",
       "mean    49.4\n",
       "Name: Marks, dtype: float64"
      ]
     },
     "execution_count": 43,
     "metadata": {},
     "output_type": "execute_result"
    }
   ],
   "source": [
    "# Using agg() : Aggregate Function\n",
    "\n",
    "df['Marks'].agg(['min','max','mean'])"
   ]
  },
  {
   "cell_type": "code",
   "execution_count": 44,
   "id": "aef5a7b1",
   "metadata": {},
   "outputs": [
    {
     "data": {
      "text/html": [
       "<div>\n",
       "<style scoped>\n",
       "    .dataframe tbody tr th:only-of-type {\n",
       "        vertical-align: middle;\n",
       "    }\n",
       "\n",
       "    .dataframe tbody tr th {\n",
       "        vertical-align: top;\n",
       "    }\n",
       "\n",
       "    .dataframe thead th {\n",
       "        text-align: right;\n",
       "    }\n",
       "</style>\n",
       "<table border=\"1\" class=\"dataframe\">\n",
       "  <thead>\n",
       "    <tr style=\"text-align: right;\">\n",
       "      <th></th>\n",
       "      <th>Name</th>\n",
       "      <th>Age</th>\n",
       "      <th>Marks</th>\n",
       "      <th>CGPA</th>\n",
       "    </tr>\n",
       "  </thead>\n",
       "  <tbody>\n",
       "    <tr>\n",
       "      <th>2</th>\n",
       "      <td>Mihir</td>\n",
       "      <td>12</td>\n",
       "      <td>67</td>\n",
       "      <td>9</td>\n",
       "    </tr>\n",
       "  </tbody>\n",
       "</table>\n",
       "</div>"
      ],
      "text/plain": [
       "    Name  Age  Marks  CGPA\n",
       "2  Mihir   12     67     9"
      ]
     },
     "execution_count": 44,
     "metadata": {},
     "output_type": "execute_result"
    }
   ],
   "source": [
    "df[df['Marks'] == max(df['Marks'])]"
   ]
  },
  {
   "cell_type": "code",
   "execution_count": 45,
   "id": "bef5048e",
   "metadata": {},
   "outputs": [
    {
     "data": {
      "text/html": [
       "<div>\n",
       "<style scoped>\n",
       "    .dataframe tbody tr th:only-of-type {\n",
       "        vertical-align: middle;\n",
       "    }\n",
       "\n",
       "    .dataframe tbody tr th {\n",
       "        vertical-align: top;\n",
       "    }\n",
       "\n",
       "    .dataframe thead th {\n",
       "        text-align: right;\n",
       "    }\n",
       "</style>\n",
       "<table border=\"1\" class=\"dataframe\">\n",
       "  <thead>\n",
       "    <tr style=\"text-align: right;\">\n",
       "      <th></th>\n",
       "      <th>Name</th>\n",
       "      <th>Age</th>\n",
       "      <th>Marks</th>\n",
       "      <th>CGPA</th>\n",
       "    </tr>\n",
       "  </thead>\n",
       "  <tbody>\n",
       "    <tr>\n",
       "      <th>0</th>\n",
       "      <td>Nikhil</td>\n",
       "      <td>10</td>\n",
       "      <td>34</td>\n",
       "      <td>8</td>\n",
       "    </tr>\n",
       "    <tr>\n",
       "      <th>1</th>\n",
       "      <td>Aniket</td>\n",
       "      <td>11</td>\n",
       "      <td>56</td>\n",
       "      <td>6</td>\n",
       "    </tr>\n",
       "    <tr>\n",
       "      <th>3</th>\n",
       "      <td>Tanvi</td>\n",
       "      <td>13</td>\n",
       "      <td>34</td>\n",
       "      <td>6</td>\n",
       "    </tr>\n",
       "    <tr>\n",
       "      <th>4</th>\n",
       "      <td>Hemangi</td>\n",
       "      <td>14</td>\n",
       "      <td>56</td>\n",
       "      <td>8</td>\n",
       "    </tr>\n",
       "  </tbody>\n",
       "</table>\n",
       "</div>"
      ],
      "text/plain": [
       "      Name  Age  Marks  CGPA\n",
       "0   Nikhil   10     34     8\n",
       "1   Aniket   11     56     6\n",
       "3    Tanvi   13     34     6\n",
       "4  Hemangi   14     56     8"
      ]
     },
     "execution_count": 45,
     "metadata": {},
     "output_type": "execute_result"
    }
   ],
   "source": [
    "'''\n",
    "Logical Operators in Python Programming\n",
    "== comparison operator\n",
    "< less than\n",
    "> greater than\n",
    "<= less than equal to\n",
    ">= greater than equal to\n",
    "!= not equal to\n",
    "= Assignment Operator\n",
    "& = And Logic Operator\n",
    "| = Or Logic Operator\n",
    "~ = Not Logic Operator or Tilde Operator\n",
    "\n",
    "'''\n",
    "df[df['CGPA'] <= 8]"
   ]
  },
  {
   "cell_type": "code",
   "execution_count": 46,
   "id": "b1fecb34",
   "metadata": {},
   "outputs": [
    {
     "data": {
      "text/html": [
       "<div>\n",
       "<style scoped>\n",
       "    .dataframe tbody tr th:only-of-type {\n",
       "        vertical-align: middle;\n",
       "    }\n",
       "\n",
       "    .dataframe tbody tr th {\n",
       "        vertical-align: top;\n",
       "    }\n",
       "\n",
       "    .dataframe thead th {\n",
       "        text-align: right;\n",
       "    }\n",
       "</style>\n",
       "<table border=\"1\" class=\"dataframe\">\n",
       "  <thead>\n",
       "    <tr style=\"text-align: right;\">\n",
       "      <th></th>\n",
       "      <th>Name</th>\n",
       "      <th>Age</th>\n",
       "      <th>Marks</th>\n",
       "      <th>CGPA</th>\n",
       "    </tr>\n",
       "  </thead>\n",
       "  <tbody>\n",
       "    <tr>\n",
       "      <th>0</th>\n",
       "      <td>Nikhil</td>\n",
       "      <td>10</td>\n",
       "      <td>34</td>\n",
       "      <td>8</td>\n",
       "    </tr>\n",
       "    <tr>\n",
       "      <th>1</th>\n",
       "      <td>Aniket</td>\n",
       "      <td>11</td>\n",
       "      <td>56</td>\n",
       "      <td>6</td>\n",
       "    </tr>\n",
       "    <tr>\n",
       "      <th>2</th>\n",
       "      <td>Mihir</td>\n",
       "      <td>12</td>\n",
       "      <td>67</td>\n",
       "      <td>9</td>\n",
       "    </tr>\n",
       "    <tr>\n",
       "      <th>3</th>\n",
       "      <td>Tanvi</td>\n",
       "      <td>13</td>\n",
       "      <td>34</td>\n",
       "      <td>6</td>\n",
       "    </tr>\n",
       "    <tr>\n",
       "      <th>4</th>\n",
       "      <td>Hemangi</td>\n",
       "      <td>14</td>\n",
       "      <td>56</td>\n",
       "      <td>8</td>\n",
       "    </tr>\n",
       "  </tbody>\n",
       "</table>\n",
       "</div>"
      ],
      "text/plain": [
       "      Name  Age  Marks  CGPA\n",
       "0   Nikhil   10     34     8\n",
       "1   Aniket   11     56     6\n",
       "2    Mihir   12     67     9\n",
       "3    Tanvi   13     34     6\n",
       "4  Hemangi   14     56     8"
      ]
     },
     "execution_count": 46,
     "metadata": {},
     "output_type": "execute_result"
    }
   ],
   "source": [
    "df[~(df['CGPA'] < 8) | (df['Marks'] > 30)]"
   ]
  },
  {
   "cell_type": "code",
   "execution_count": 47,
   "id": "50a538f1",
   "metadata": {},
   "outputs": [
    {
     "data": {
      "text/html": [
       "<div>\n",
       "<style scoped>\n",
       "    .dataframe tbody tr th:only-of-type {\n",
       "        vertical-align: middle;\n",
       "    }\n",
       "\n",
       "    .dataframe tbody tr th {\n",
       "        vertical-align: top;\n",
       "    }\n",
       "\n",
       "    .dataframe thead th {\n",
       "        text-align: right;\n",
       "    }\n",
       "</style>\n",
       "<table border=\"1\" class=\"dataframe\">\n",
       "  <thead>\n",
       "    <tr style=\"text-align: right;\">\n",
       "      <th></th>\n",
       "      <th>Name</th>\n",
       "      <th>Age</th>\n",
       "      <th>Marks</th>\n",
       "      <th>CGPA</th>\n",
       "    </tr>\n",
       "  </thead>\n",
       "  <tbody>\n",
       "    <tr>\n",
       "      <th>1</th>\n",
       "      <td>Aniket</td>\n",
       "      <td>11</td>\n",
       "      <td>56</td>\n",
       "      <td>6</td>\n",
       "    </tr>\n",
       "    <tr>\n",
       "      <th>3</th>\n",
       "      <td>Tanvi</td>\n",
       "      <td>13</td>\n",
       "      <td>34</td>\n",
       "      <td>6</td>\n",
       "    </tr>\n",
       "  </tbody>\n",
       "</table>\n",
       "</div>"
      ],
      "text/plain": [
       "     Name  Age  Marks  CGPA\n",
       "1  Aniket   11     56     6\n",
       "3   Tanvi   13     34     6"
      ]
     },
     "execution_count": 47,
     "metadata": {},
     "output_type": "execute_result"
    }
   ],
   "source": [
    "df[(df['CGPA'] < 8) & (df['Marks'] > 30)]"
   ]
  },
  {
   "cell_type": "code",
   "execution_count": 48,
   "id": "3e1fe2fb",
   "metadata": {},
   "outputs": [
    {
     "data": {
      "text/html": [
       "<div>\n",
       "<style scoped>\n",
       "    .dataframe tbody tr th:only-of-type {\n",
       "        vertical-align: middle;\n",
       "    }\n",
       "\n",
       "    .dataframe tbody tr th {\n",
       "        vertical-align: top;\n",
       "    }\n",
       "\n",
       "    .dataframe thead th {\n",
       "        text-align: right;\n",
       "    }\n",
       "</style>\n",
       "<table border=\"1\" class=\"dataframe\">\n",
       "  <thead>\n",
       "    <tr style=\"text-align: right;\">\n",
       "      <th></th>\n",
       "      <th>Name</th>\n",
       "      <th>Age</th>\n",
       "      <th>Marks</th>\n",
       "      <th>CGPA</th>\n",
       "    </tr>\n",
       "  </thead>\n",
       "  <tbody>\n",
       "    <tr>\n",
       "      <th>2</th>\n",
       "      <td>Mihir</td>\n",
       "      <td>12</td>\n",
       "      <td>67</td>\n",
       "      <td>9</td>\n",
       "    </tr>\n",
       "  </tbody>\n",
       "</table>\n",
       "</div>"
      ],
      "text/plain": [
       "    Name  Age  Marks  CGPA\n",
       "2  Mihir   12     67     9"
      ]
     },
     "execution_count": 48,
     "metadata": {},
     "output_type": "execute_result"
    }
   ],
   "source": [
    "df[df['Marks'] == 67]"
   ]
  },
  {
   "cell_type": "code",
   "execution_count": 49,
   "id": "8926c82b",
   "metadata": {},
   "outputs": [
    {
     "data": {
      "text/html": [
       "<div>\n",
       "<style scoped>\n",
       "    .dataframe tbody tr th:only-of-type {\n",
       "        vertical-align: middle;\n",
       "    }\n",
       "\n",
       "    .dataframe tbody tr th {\n",
       "        vertical-align: top;\n",
       "    }\n",
       "\n",
       "    .dataframe thead th {\n",
       "        text-align: right;\n",
       "    }\n",
       "</style>\n",
       "<table border=\"1\" class=\"dataframe\">\n",
       "  <thead>\n",
       "    <tr style=\"text-align: right;\">\n",
       "      <th></th>\n",
       "      <th>Name</th>\n",
       "      <th>Age</th>\n",
       "      <th>Marks</th>\n",
       "      <th>CGPA</th>\n",
       "    </tr>\n",
       "  </thead>\n",
       "  <tbody>\n",
       "    <tr>\n",
       "      <th>1</th>\n",
       "      <td>Aniket</td>\n",
       "      <td>11</td>\n",
       "      <td>56</td>\n",
       "      <td>6</td>\n",
       "    </tr>\n",
       "    <tr>\n",
       "      <th>3</th>\n",
       "      <td>Tanvi</td>\n",
       "      <td>13</td>\n",
       "      <td>34</td>\n",
       "      <td>6</td>\n",
       "    </tr>\n",
       "  </tbody>\n",
       "</table>\n",
       "</div>"
      ],
      "text/plain": [
       "     Name  Age  Marks  CGPA\n",
       "1  Aniket   11     56     6\n",
       "3   Tanvi   13     34     6"
      ]
     },
     "execution_count": 49,
     "metadata": {},
     "output_type": "execute_result"
    }
   ],
   "source": [
    "df[df['CGPA'] == 6]"
   ]
  },
  {
   "cell_type": "code",
   "execution_count": 50,
   "id": "04200fcb",
   "metadata": {},
   "outputs": [
    {
     "name": "stdout",
     "output_type": "stream",
     "text": [
      "<class 'pandas.core.frame.DataFrame'>\n",
      "RangeIndex: 5 entries, 0 to 4\n",
      "Data columns (total 4 columns):\n",
      " #   Column  Non-Null Count  Dtype \n",
      "---  ------  --------------  ----- \n",
      " 0   Name    5 non-null      object\n",
      " 1   Age     5 non-null      int64 \n",
      " 2   Marks   5 non-null      int64 \n",
      " 3   CGPA    5 non-null      int64 \n",
      "dtypes: int64(3), object(1)\n",
      "memory usage: 292.0+ bytes\n"
     ]
    }
   ],
   "source": [
    "\n",
    "# Checking DataFrame Information\n",
    "\n",
    "df.info()"
   ]
  },
  {
   "cell_type": "code",
   "execution_count": 51,
   "id": "4512ca50",
   "metadata": {},
   "outputs": [
    {
     "data": {
      "text/plain": [
       "Name     0\n",
       "Age      0\n",
       "Marks    0\n",
       "CGPA     0\n",
       "dtype: int64"
      ]
     },
     "execution_count": 51,
     "metadata": {},
     "output_type": "execute_result"
    }
   ],
   "source": [
    "# This code will check if any missing values in Dataset\n",
    "\n",
    "df.isnull().sum()"
   ]
  },
  {
   "cell_type": "code",
   "execution_count": 52,
   "id": "eaacb8d1",
   "metadata": {},
   "outputs": [
    {
     "name": "stdout",
     "output_type": "stream",
     "text": [
      "247\n",
      "49.4\n",
      "67\n",
      "34\n",
      "3\n",
      "[34 56 67]\n",
      "Name\n",
      "Nikhil     1\n",
      "Aniket     1\n",
      "Mihir      1\n",
      "Tanvi      1\n",
      "Hemangi    1\n",
      "Name: count, dtype: int64\n",
      "Marks\n",
      "34    2\n",
      "56    2\n",
      "67    1\n",
      "Name: count, dtype: int64\n"
     ]
    }
   ],
   "source": [
    "print(df['Marks'].sum())\n",
    "print(df['Marks'].mean())\n",
    "print(df['Marks'].max())\n",
    "print(df['Marks'].min())\n",
    "print(df['Marks'].nunique())\n",
    "print(df['Marks'].unique())\n",
    "print(df['Name'].value_counts())\n",
    "print(df['Marks'].value_counts())\n",
    "     "
   ]
  },
  {
   "cell_type": "code",
   "execution_count": null,
   "id": "a759a6ca",
   "metadata": {},
   "outputs": [],
   "source": []
  },
  {
   "cell_type": "code",
   "execution_count": 53,
   "id": "a937c6ab",
   "metadata": {},
   "outputs": [
    {
     "data": {
      "image/png": "[encoded data removed]",
      "text/plain": [
       "<Figure size 640x480 with 1 Axes>"
      ]
     },
     "metadata": {},
     "output_type": "display_data"
    }
   ],
   "source": [
    "import matplotlib.pyplot as plt\n",
    "\n",
    "plt.bar(df['Name'], df['CGPA'], color='g')\n",
    "plt.title('CGPA vs Name')\n",
    "plt.ylim(0, 15)\n",
    "plt.show()\n"
   ]
  },
  {
   "cell_type": "code",
   "execution_count": 54,
   "id": "6e970c0d",
   "metadata": {},
   "outputs": [
    {
     "name": "stderr",
     "output_type": "stream",
     "text": [
      "C:\\Users\\ADMIN\\AppData\\Local\\Temp\\ipykernel_21540\\331697364.py:5: FutureWarning: \n",
      "\n",
      "Passing `palette` without assigning `hue` is deprecated and will be removed in v0.14.0. Assign the `x` variable to `hue` and set `legend=False` for the same effect.\n",
      "\n",
      "  sns.barplot(x=df['Name'], y=df['CGPA'], palette=colormaps)\n"
     ]
    },
    {
     "data": {
      "image/png": "[encoded data removed]",
      "text/plain": [
       "<Figure size 640x480 with 1 Axes>"
      ]
     },
     "metadata": {},
     "output_type": "display_data"
    }
   ],
   "source": [
    "import seaborn as sns\n",
    "import matplotlib.pyplot as plt\n",
    "\n",
    "colormaps = ['red', 'green', 'magenta', 'black', 'cyan']  # corrected variable name\n",
    "sns.barplot(x=df['Name'], y=df['CGPA'], palette=colormaps)\n",
    "plt.xlabel('Name')\n",
    "plt.ylabel('CGPA')\n",
    "plt.title('CGPA Vs Name')\n",
    "plt.ylim(0, 15)\n",
    "plt.show()"
   ]
  },
  {
   "cell_type": "code",
   "execution_count": 55,
   "id": "2ab6e082",
   "metadata": {},
   "outputs": [
    {
     "data": {
      "image/png": "[encoded data removed]",
      "text/plain": [
       "<Figure size 640x480 with 1 Axes>"
      ]
     },
     "metadata": {},
     "output_type": "display_data"
    }
   ],
   "source": [
    "sns.scatterplot(x=df['Age'], y=df['CGPA'],hue=df['Marks'])\n",
    "sns.regplot(x=df['Age'], y=df['CGPA'])\n",
    "plt.show()"
   ]
  },
  {
   "cell_type": "code",
   "execution_count": 56,
   "id": "87fc1f99",
   "metadata": {},
   "outputs": [
    {
     "name": "stdout",
     "output_type": "stream",
     "text": [
      "      Name  Salary  No_of_Exp   Domain  Age Gender\n",
      "0   Nikhil   50000          1     Tech   20      M\n",
      "1   Aniket   60000          2  Nontech   21      M\n",
      "2    Mihir   70000          3       HR   22      M\n",
      "3    Tanvi   71000          4      R&D   23      F\n",
      "4  Hemangi   89000          5     Tech   24      F\n",
      "5     Yash   78000          6  Nontech   25      M\n",
      "6    Disha   67000          7       HR   26      F\n",
      "7   Shreya   55000          8     Tech   27      F\n"
     ]
    }
   ],
   "source": [
    "# Create Company Database\n",
    "Company = {'Name':['Nikhil', 'Aniket', 'Mihir', 'Tanvi', 'Hemangi', 'Yash', 'Disha','Shreya'],\n",
    "            'Salary' :[50000,60000,70000,71000,89000,78000,67000,55000],\n",
    "            'No_of_Exp':[1,2,3,4,5,6,7,8],\n",
    "            'Domain':['Tech','Nontech','HR','R&D', 'Tech', 'Nontech', 'HR','Tech'],\n",
    "            'Age':[20,21,22,23,24,25,26,27],\n",
    "            'Gender':['M','M','M','F','F','M','F','F']\n",
    "    }\n",
    "\n",
    " # Create a Variable df: Which will store dataframe\n",
    "df = pd.DataFrame(Company)\n",
    "print(df)"
   ]
  },
  {
   "cell_type": "code",
   "execution_count": 57,
   "id": "7eea936e",
   "metadata": {},
   "outputs": [
    {
     "name": "stdout",
     "output_type": "stream",
     "text": [
      "<class 'pandas.core.frame.DataFrame'>\n",
      "RangeIndex: 8 entries, 0 to 7\n",
      "Data columns (total 6 columns):\n",
      " #   Column     Non-Null Count  Dtype \n",
      "---  ------     --------------  ----- \n",
      " 0   Name       8 non-null      object\n",
      " 1   Salary     8 non-null      int64 \n",
      " 2   No_of_Exp  8 non-null      int64 \n",
      " 3   Domain     8 non-null      object\n",
      " 4   Age        8 non-null      int64 \n",
      " 5   Gender     8 non-null      object\n",
      "dtypes: int64(3), object(3)\n",
      "memory usage: 516.0+ bytes\n"
     ]
    }
   ],
   "source": [
    "# Checking DataFrame Information\n",
    "\n",
    "df.info()"
   ]
  },
  {
   "cell_type": "code",
   "execution_count": 58,
   "id": "aa05bb1c",
   "metadata": {},
   "outputs": [
    {
     "data": {
      "text/html": [
       "<div>\n",
       "<style scoped>\n",
       "    .dataframe tbody tr th:only-of-type {\n",
       "        vertical-align: middle;\n",
       "    }\n",
       "\n",
       "    .dataframe tbody tr th {\n",
       "        vertical-align: top;\n",
       "    }\n",
       "\n",
       "    .dataframe thead th {\n",
       "        text-align: right;\n",
       "    }\n",
       "</style>\n",
       "<table border=\"1\" class=\"dataframe\">\n",
       "  <thead>\n",
       "    <tr style=\"text-align: right;\">\n",
       "      <th></th>\n",
       "      <th>Name</th>\n",
       "      <th>Salary</th>\n",
       "      <th>No_of_Exp</th>\n",
       "      <th>Domain</th>\n",
       "      <th>Age</th>\n",
       "      <th>Gender</th>\n",
       "    </tr>\n",
       "  </thead>\n",
       "  <tbody>\n",
       "    <tr>\n",
       "      <th>7</th>\n",
       "      <td>Shreya</td>\n",
       "      <td>55000</td>\n",
       "      <td>8</td>\n",
       "      <td>Tech</td>\n",
       "      <td>27</td>\n",
       "      <td>F</td>\n",
       "    </tr>\n",
       "  </tbody>\n",
       "</table>\n",
       "</div>"
      ],
      "text/plain": [
       "     Name  Salary  No_of_Exp Domain  Age Gender\n",
       "7  Shreya   55000          8   Tech   27      F"
      ]
     },
     "execution_count": 58,
     "metadata": {},
     "output_type": "execute_result"
    }
   ],
   "source": [
    "\n",
    "# Evaluting the Max Number Of Exp From The Dataset\n",
    "\n",
    "df[df['No_of_Exp'] == max(df['No_of_Exp'])]"
   ]
  },
  {
   "cell_type": "code",
   "execution_count": 59,
   "id": "9bfaec9b",
   "metadata": {},
   "outputs": [
    {
     "data": {
      "text/plain": [
       "8"
      ]
     },
     "execution_count": 59,
     "metadata": {},
     "output_type": "execute_result"
    }
   ],
   "source": [
    "# Evaluting the Max Number Of Exp From The Dataset\n",
    "\n",
    "df['No_of_Exp'].max()"
   ]
  },
  {
   "cell_type": "code",
   "execution_count": 60,
   "id": "93297e59",
   "metadata": {},
   "outputs": [
    {
     "data": {
      "text/html": [
       "<div>\n",
       "<style scoped>\n",
       "    .dataframe tbody tr th:only-of-type {\n",
       "        vertical-align: middle;\n",
       "    }\n",
       "\n",
       "    .dataframe tbody tr th {\n",
       "        vertical-align: top;\n",
       "    }\n",
       "\n",
       "    .dataframe thead th {\n",
       "        text-align: right;\n",
       "    }\n",
       "</style>\n",
       "<table border=\"1\" class=\"dataframe\">\n",
       "  <thead>\n",
       "    <tr style=\"text-align: right;\">\n",
       "      <th></th>\n",
       "      <th>Name</th>\n",
       "      <th>Salary</th>\n",
       "      <th>No_of_Exp</th>\n",
       "      <th>Domain</th>\n",
       "      <th>Age</th>\n",
       "      <th>Gender</th>\n",
       "    </tr>\n",
       "  </thead>\n",
       "  <tbody>\n",
       "    <tr>\n",
       "      <th>0</th>\n",
       "      <td>Nikhil</td>\n",
       "      <td>50000</td>\n",
       "      <td>1</td>\n",
       "      <td>Tech</td>\n",
       "      <td>20</td>\n",
       "      <td>M</td>\n",
       "    </tr>\n",
       "  </tbody>\n",
       "</table>\n",
       "</div>"
      ],
      "text/plain": [
       "     Name  Salary  No_of_Exp Domain  Age Gender\n",
       "0  Nikhil   50000          1   Tech   20      M"
      ]
     },
     "execution_count": 60,
     "metadata": {},
     "output_type": "execute_result"
    }
   ],
   "source": [
    "# Evaluting the Min Number Of Exp From The Dataset\n",
    "\n",
    "df[df['No_of_Exp'] == min(df['No_of_Exp'])]"
   ]
  },
  {
   "cell_type": "code",
   "execution_count": 61,
   "id": "d3157d00",
   "metadata": {},
   "outputs": [
    {
     "data": {
      "text/plain": [
       "1"
      ]
     },
     "execution_count": 61,
     "metadata": {},
     "output_type": "execute_result"
    }
   ],
   "source": [
    "\n",
    "# Evaluting the Min Number Of Exp From The Dataset\n",
    "\n",
    "df['No_of_Exp'].min()"
   ]
  },
  {
   "cell_type": "code",
   "execution_count": 62,
   "id": "18f75834",
   "metadata": {},
   "outputs": [
    {
     "data": {
      "text/plain": [
       "4.5"
      ]
     },
     "execution_count": 62,
     "metadata": {},
     "output_type": "execute_result"
    }
   ],
   "source": [
    "# Evaluting the Mean Number Of Exp From The Dataset\n",
    "\n",
    "df['No_of_Exp'].mean()"
   ]
  },
  {
   "cell_type": "code",
   "execution_count": 63,
   "id": "95e94557",
   "metadata": {},
   "outputs": [
    {
     "name": "stdout",
     "output_type": "stream",
     "text": [
      "      Name  Salary  No_of_Exp Domain  Age Gender\n",
      "3    Tanvi   71000          4    R&D   23      F\n",
      "4  Hemangi   89000          5   Tech   24      F\n",
      "6    Disha   67000          7     HR   26      F\n",
      "7   Shreya   55000          8   Tech   27      F\n"
     ]
    }
   ],
   "source": [
    "# Evaluting the data of Female Employee\n",
    "\n",
    "f= df[df['Gender'] == 'F']\n",
    "print(f)"
   ]
  },
  {
   "cell_type": "code",
   "execution_count": 64,
   "id": "43ebece9",
   "metadata": {},
   "outputs": [
    {
     "data": {
      "text/plain": [
       "89000"
      ]
     },
     "execution_count": 64,
     "metadata": {},
     "output_type": "execute_result"
    }
   ],
   "source": [
    "# Max Salary Of Female\n",
    "\n",
    "f['Salary'].max()"
   ]
  },
  {
   "cell_type": "code",
   "execution_count": 65,
   "id": "c2a7d9d2",
   "metadata": {},
   "outputs": [
    {
     "data": {
      "text/html": [
       "<div>\n",
       "<style scoped>\n",
       "    .dataframe tbody tr th:only-of-type {\n",
       "        vertical-align: middle;\n",
       "    }\n",
       "\n",
       "    .dataframe tbody tr th {\n",
       "        vertical-align: top;\n",
       "    }\n",
       "\n",
       "    .dataframe thead th {\n",
       "        text-align: right;\n",
       "    }\n",
       "</style>\n",
       "<table border=\"1\" class=\"dataframe\">\n",
       "  <thead>\n",
       "    <tr style=\"text-align: right;\">\n",
       "      <th></th>\n",
       "      <th>Name</th>\n",
       "      <th>Salary</th>\n",
       "      <th>No_of_Exp</th>\n",
       "      <th>Domain</th>\n",
       "      <th>Age</th>\n",
       "      <th>Gender</th>\n",
       "    </tr>\n",
       "  </thead>\n",
       "  <tbody>\n",
       "    <tr>\n",
       "      <th>4</th>\n",
       "      <td>Hemangi</td>\n",
       "      <td>89000</td>\n",
       "      <td>5</td>\n",
       "      <td>Tech</td>\n",
       "      <td>24</td>\n",
       "      <td>F</td>\n",
       "    </tr>\n",
       "  </tbody>\n",
       "</table>\n",
       "</div>"
      ],
      "text/plain": [
       "      Name  Salary  No_of_Exp Domain  Age Gender\n",
       "4  Hemangi   89000          5   Tech   24      F"
      ]
     },
     "execution_count": 65,
     "metadata": {},
     "output_type": "execute_result"
    }
   ],
   "source": [
    "# List the Maximum salary of Female\n",
    "f[f['Salary'] == 89000]"
   ]
  },
  {
   "cell_type": "code",
   "execution_count": 66,
   "id": "197ac7d7",
   "metadata": {},
   "outputs": [
    {
     "data": {
      "text/html": [
       "<div>\n",
       "<style scoped>\n",
       "    .dataframe tbody tr th:only-of-type {\n",
       "        vertical-align: middle;\n",
       "    }\n",
       "\n",
       "    .dataframe tbody tr th {\n",
       "        vertical-align: top;\n",
       "    }\n",
       "\n",
       "    .dataframe thead th {\n",
       "        text-align: right;\n",
       "    }\n",
       "</style>\n",
       "<table border=\"1\" class=\"dataframe\">\n",
       "  <thead>\n",
       "    <tr style=\"text-align: right;\">\n",
       "      <th></th>\n",
       "      <th>Name</th>\n",
       "      <th>Salary</th>\n",
       "      <th>No_of_Exp</th>\n",
       "      <th>Domain</th>\n",
       "      <th>Age</th>\n",
       "      <th>Gender</th>\n",
       "    </tr>\n",
       "  </thead>\n",
       "  <tbody>\n",
       "    <tr>\n",
       "      <th>4</th>\n",
       "      <td>Hemangi</td>\n",
       "      <td>89000</td>\n",
       "      <td>5</td>\n",
       "      <td>Tech</td>\n",
       "      <td>24</td>\n",
       "      <td>F</td>\n",
       "    </tr>\n",
       "  </tbody>\n",
       "</table>\n",
       "</div>"
      ],
      "text/plain": [
       "      Name  Salary  No_of_Exp Domain  Age Gender\n",
       "4  Hemangi   89000          5   Tech   24      F"
      ]
     },
     "execution_count": 66,
     "metadata": {},
     "output_type": "execute_result"
    }
   ],
   "source": [
    "\n",
    "f = df[df['Gender'] == 'F']\n",
    "f['Salary'].max()\n",
    "f[f['Salary'] == 89000]"
   ]
  },
  {
   "cell_type": "code",
   "execution_count": 67,
   "id": "76f7cdc9",
   "metadata": {},
   "outputs": [
    {
     "data": {
      "text/plain": [
       "Gender\n",
       "M    4\n",
       "F    4\n",
       "Name: count, dtype: int64"
      ]
     },
     "execution_count": 67,
     "metadata": {},
     "output_type": "execute_result"
    }
   ],
   "source": [
    "df['Gender'].value_counts()"
   ]
  }
 ],
 "metadata": {
  "kernelspec": {
   "display_name": "base",
   "language": "python",
   "name": "python3"
  },
  "language_info": {
   "codemirror_mode": {
    "name": "ipython",
    "version": 3
   },
   "file_extension": ".py",
   "mimetype": "text/x-python",
   "name": "python",
   "nbconvert_exporter": "python",
   "pygments_lexer": "ipython3",
   "version": "3.12.7"
  }
 },
 "nbformat": 4,
 "nbformat_minor": 5
}
