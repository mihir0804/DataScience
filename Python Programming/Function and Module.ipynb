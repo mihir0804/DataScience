{
 "cells": [
  {
   "cell_type": "markdown",
   "id": "82d9c377",
   "metadata": {},
   "source": [
    "### Intro to Functions & Modules"
   ]
  },
  {
   "cell_type": "code",
   "execution_count": 1,
   "id": "105b4f51",
   "metadata": {},
   "outputs": [],
   "source": [
    "import math\n",
    "import os\n",
    "import datetime"
   ]
  },
  {
   "cell_type": "code",
   "execution_count": 2,
   "id": "15102347",
   "metadata": {},
   "outputs": [
    {
     "name": "stdout",
     "output_type": "stream",
     "text": [
      "Hello World\n"
     ]
    }
   ],
   "source": [
    "# define function\n",
    "\n",
    "def sum():   # sum() function defination\n",
    "    print('Hello World')\n",
    "\n",
    "ans = sum()     # sum() function calling and storing in variable ans"
   ]
  },
  {
   "cell_type": "code",
   "execution_count": 3,
   "id": "fd9f9944",
   "metadata": {},
   "outputs": [
    {
     "name": "stdout",
     "output_type": "stream",
     "text": [
      "The addition of two numbers100 and 200 is 300\n"
     ]
    }
   ],
   "source": [
    "def sum(num1,num2):\n",
    "    num3 = num1 + num2\n",
    "    print(f'The addition of two numbers{num1} and {num2} is',num3)\n",
    "\n",
    "\n",
    "\n",
    "ans = sum(100,200)"
   ]
  },
  {
   "cell_type": "code",
   "execution_count": 7,
   "id": "419750b5",
   "metadata": {},
   "outputs": [
    {
     "name": "stdout",
     "output_type": "stream",
     "text": [
      "The addition of two numbers80.0 and 10.0 is 90.0\n",
      "The substraction of two numbers80.0 and 10.0 is 70.0\n",
      "The multiplication of two numbers80.0 and 10.0 is 800.0\n",
      "The division of two numbers80.0 and 10.0 is 8.0\n"
     ]
    }
   ],
   "source": [
    "num1 = float(input('Enter the first number:'))\n",
    "num2 = float(input('Enter the second number:'))\n",
    "\n",
    "def sum(num1,num2): \n",
    "    num3 = num1 + num2\n",
    "    print(f'The addition of two numbers{num1} and {num2} is',num3)\n",
    "    return num3\n",
    "\n",
    "def sub(num1,num2): \n",
    "    num4 = num1 - num2\n",
    "    print(f'The substraction of two numbers{num1} and {num2} is',num4)\n",
    "    return num4 \n",
    "\n",
    "def mul(num1,num2): \n",
    "    num5 = num1 * num2\n",
    "    print(f'The multiplication of two numbers{num1} and {num2} is',num5) \n",
    "    return num5\n",
    "\n",
    "def div(num1,num2): \n",
    "    num6 = num1 / num2\n",
    "    print(f'The division of two numbers{num1} and {num2} is',num6)\n",
    "    return num6\n",
    "\n",
    "addtion = sum(num1,num2)\n",
    "substarction = sub(num1,num2)\n",
    "multiplication = mul(num1,num2)\n",
    "division = div(num1,num2)"
   ]
  },
  {
   "cell_type": "code",
   "execution_count": 6,
   "id": "f2589b1f",
   "metadata": {},
   "outputs": [
    {
     "data": {
      "text/plain": [
       "90.0"
      ]
     },
     "execution_count": 6,
     "metadata": {},
     "output_type": "execute_result"
    }
   ],
   "source": [
    "addtion\n"
   ]
  },
  {
   "cell_type": "code",
   "execution_count": 10,
   "id": "0875550d",
   "metadata": {},
   "outputs": [
    {
     "data": {
      "text/plain": [
       "70.0"
      ]
     },
     "execution_count": 10,
     "metadata": {},
     "output_type": "execute_result"
    }
   ],
   "source": [
    "substarction"
   ]
  },
  {
   "cell_type": "code",
   "execution_count": 11,
   "id": "e56030f7",
   "metadata": {},
   "outputs": [
    {
     "data": {
      "text/plain": [
       "800.0"
      ]
     },
     "execution_count": 11,
     "metadata": {},
     "output_type": "execute_result"
    }
   ],
   "source": [
    "multiplication"
   ]
  },
  {
   "cell_type": "code",
   "execution_count": 12,
   "id": "eee8db75",
   "metadata": {},
   "outputs": [
    {
     "data": {
      "text/plain": [
       "8.0"
      ]
     },
     "execution_count": 12,
     "metadata": {},
     "output_type": "execute_result"
    }
   ],
   "source": [
    "division"
   ]
  },
  {
   "cell_type": "code",
   "execution_count": 13,
   "id": "04db5c2b",
   "metadata": {},
   "outputs": [
    {
     "name": "stdout",
     "output_type": "stream",
     "text": [
      "The given string is Palindrom\n"
     ]
    }
   ],
   "source": [
    "text = input('Enter the text')\n",
    "text1 = text[::-1]\n",
    "\n",
    "def pal(text):\n",
    "    if text == text1:\n",
    "        print('The given string is Palindrom')\n",
    "    else:\n",
    "        print('The given string is not a palindrom')\n",
    "\n",
    "    \n",
    "pal(text)"
   ]
  },
  {
   "cell_type": "code",
   "execution_count": 14,
   "id": "2fbb03bc",
   "metadata": {},
   "outputs": [
    {
     "name": "stdout",
     "output_type": "stream",
     "text": [
      "New Balance is  4000.0\n"
     ]
    }
   ],
   "source": [
    "balance = 10000\n",
    "withdraw = float(input('Enter the amount to withdraw: '))\n",
    "threshould = 2000\n",
    "\n",
    "def trans(withdraw):\n",
    "    if withdraw >= balance:\n",
    "        print('Insufficient Balance')\n",
    "    if withdraw <= balance:\n",
    "        new_balance = balance - withdraw\n",
    "        if new_balance >= 2000:\n",
    "            print('New Balance is ',new_balance)\n",
    "        else:\n",
    "            print('Check Your Transaction')\n",
    "\n",
    "trans(withdraw)"
   ]
  }
 ],
 "metadata": {
  "kernelspec": {
   "display_name": "base",
   "language": "python",
   "name": "python3"
  },
  "language_info": {
   "codemirror_mode": {
    "name": "ipython",
    "version": 3
   },
   "file_extension": ".py",
   "mimetype": "text/x-python",
   "name": "python",
   "nbconvert_exporter": "python",
   "pygments_lexer": "ipython3",
   "version": "3.12.7"
  }
 },
 "nbformat": 4,
 "nbformat_minor": 5
}
