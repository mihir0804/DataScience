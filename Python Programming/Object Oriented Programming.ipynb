{
 "cells": [
  {
   "cell_type": "markdown",
   "id": "610aa0c8",
   "metadata": {},
   "source": [
    "OBJECT_ORIENTED_PROGRAMMING"
   ]
  },
  {
   "cell_type": "code",
   "execution_count": 1,
   "id": "797b3408",
   "metadata": {},
   "outputs": [
    {
     "data": {
      "text/plain": [
       "12345"
      ]
     },
     "execution_count": 1,
     "metadata": {},
     "output_type": "execute_result"
    }
   ],
   "source": [
    "# OOP: Object Oriented Programming\n",
    "\n",
    "class ClassName:\n",
    "    i = 12345\n",
    "\n",
    "\n",
    "x = ClassName()\n",
    "x.i    "
   ]
  },
  {
   "cell_type": "code",
   "execution_count": 2,
   "id": "a0c79d08",
   "metadata": {},
   "outputs": [
    {
     "name": "stdout",
     "output_type": "stream",
     "text": [
      "10 + 10 j\n"
     ]
    }
   ],
   "source": [
    "class Complex:\n",
    "    def __init__(self,real,img):    # Constructor Method\n",
    "        self.r = real               # Attribute\n",
    "        self.i = img                # Attribute\n",
    "    \n",
    "x = Complex(10,10)      # z is an object of class complex\n",
    "x.r     # Calling Attribute using Dot Operator with the help of Object x\n",
    "x.i     # Calling Attribute using Dot Operator with the help of Object x\n",
    "print(x.r,'+',x.i,'j')"
   ]
  },
  {
   "cell_type": "code",
   "execution_count": 4,
   "id": "8c16d6b7",
   "metadata": {},
   "outputs": [
    {
     "data": {
      "text/plain": [
       "600"
      ]
     },
     "execution_count": 4,
     "metadata": {},
     "output_type": "execute_result"
    }
   ],
   "source": [
    "class addtition:\n",
    "    def __init__(self):\n",
    "        self.num1 = 200\n",
    "        self.num2 = 400\n",
    "    def sum(self):\n",
    "        num3 = self.num1 +self.num2\n",
    "        return num3\n",
    "\n",
    "a = addtition()\n",
    "a.sum()"
   ]
  },
  {
   "cell_type": "code",
   "execution_count": 19,
   "id": "86d4b577",
   "metadata": {},
   "outputs": [
    {
     "name": "stdout",
     "output_type": "stream",
     "text": [
      "New Balance is  4002.0\n"
     ]
    }
   ],
   "source": [
    "class Bank:\n",
    "    def __init__(self):\n",
    "        self.balance = 10000\n",
    "        \n",
    "        self.hreshould = 2000\n",
    "\n",
    "    def trans(self):\n",
    "        withdraw = float(input('Enter the withdraw amount:'))\n",
    "        if withdraw >= self.balance:\n",
    "            print('Insufficient Balance')\n",
    "        if withdraw <= self.balance:\n",
    "            new_balance = self.balance - withdraw\n",
    "            if new_balance >= 2000:\n",
    "                print('New Balance is ',new_balance)\n",
    "            else:\n",
    "                print('Check Your Transaction')\n",
    "      \n",
    "\n",
    "T = Bank()\n",
    "T.trans()"
   ]
  }
 ],
 "metadata": {
  "kernelspec": {
   "display_name": "base",
   "language": "python",
   "name": "python3"
  },
  "language_info": {
   "codemirror_mode": {
    "name": "ipython",
    "version": 3
   },
   "file_extension": ".py",
   "mimetype": "text/x-python",
   "name": "python",
   "nbconvert_exporter": "python",
   "pygments_lexer": "ipython3",
   "version": "3.12.7"
  }
 },
 "nbformat": 4,
 "nbformat_minor": 5
}
