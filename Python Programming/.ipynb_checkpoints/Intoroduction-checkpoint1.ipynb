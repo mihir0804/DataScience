{
 "cells": [
  {
   "cell_type": "markdown",
   "id": "5755694b",
   "metadata": {},
   "source": [
    "### Introduction to python programming 1"
   ]
  },
  {
   "cell_type": "code",
   "execution_count": 3,
   "id": "468a2769",
   "metadata": {},
   "outputs": [
    {
     "name": "stdout",
     "output_type": "stream",
     "text": [
      "<class 'int'>\n",
      "<class 'float'>\n",
      "<class 'str'>\n"
     ]
    }
   ],
   "source": [
    "# Variable Defination\n",
    "number = 1000  # Defining Integer Variable\n",
    "decimal=1000.890   # Defining Float Variable : Decimal Values\n",
    "string='Hello World' #Defination String: \"Text Information\"\n",
    "\n",
    "'''\n",
    "\n",
    "Data  types in Python are as follows:\n",
    "1. Integer\n",
    "2. Float\n",
    "3. String \n",
    "\n",
    "'''\n",
    "# Checking Datatype of Variables\n",
    "print(type (number))\n",
    "print(type(decimal))\n",
    "print(type(string))\n",
    "\n"
   ]
  },
  {
   "cell_type": "code",
   "execution_count": 1,
   "id": "1c8ddf6c-6afe-4d08-99c4-1ed9bdba19fb",
   "metadata": {},
   "outputs": [
    {
     "name": "stdout",
     "output_type": "stream",
     "text": [
      "100\n"
     ]
    }
   ],
   "source": [
    "#Type casting of data type\n",
    "num = 100.2908383 # Datatype : Float\n",
    "\n",
    "print(int(num)) # float is typecasted to int\n"
   ]
  },
  {
   "cell_type": "code",
   "execution_count": 7,
   "id": "5a7a116a-399d-4d8b-9ba9-c34e29bc9b59",
   "metadata": {},
   "outputs": [
    {
     "name": "stdout",
     "output_type": "stream",
     "text": [
      "<class 'str'>\n",
      "2000\n",
      "2000.0\n"
     ]
    }
   ],
   "source": [
    "# Using inpu()\n",
    "num = input ('Enter the value:')\n",
    "'''\n",
    "Whenever we use input function, the out of input function is always string\n",
    "'''\n",
    "print(type(num))\n",
    "\n",
    "print(int(num)) \n",
    "print(float(num))\n",
    "\n",
    "      "
   ]
  },
  {
   "cell_type": "code",
   "execution_count": 6,
   "id": "3f5c65a9-74fb-4799-9346-c82a7096fa5e",
   "metadata": {},
   "outputs": [
    {
     "name": "stdout",
     "output_type": "stream",
     "text": [
      "<class 'str'>\n",
      "Mihir Ughade\n"
     ]
    }
   ],
   "source": [
    "# ask the user to enter the the string using input function \n",
    "str = input ('Enter the name of the person: ')\n",
    "print(type(str))\n",
    "print(str)"
   ]
  }
 ],
 "metadata": {
  "kernelspec": {
   "display_name": "base",
   "language": "python",
   "name": "python3"
  },
  "language_info": {
   "codemirror_mode": {
    "name": "ipython",
    "version": 3
   },
   "file_extension": ".py",
   "mimetype": "text/x-python",
   "name": "python",
   "nbconvert_exporter": "python",
   "pygments_lexer": "ipython3",
   "version": "3.12.7"
  }
 },
 "nbformat": 4,
 "nbformat_minor": 5
}
