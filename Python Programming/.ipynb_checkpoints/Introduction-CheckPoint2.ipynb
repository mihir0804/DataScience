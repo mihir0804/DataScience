{
 "cells": [
  {
   "cell_type": "markdown",
   "id": "74d6fced",
   "metadata": {},
   "source": [
    "### Introduction to python programming 2"
   ]
  },
  {
   "cell_type": "code",
   "execution_count": 1,
   "id": "c0b881d7",
   "metadata": {},
   "outputs": [
    {
     "name": "stdout",
     "output_type": "stream",
     "text": [
      "<class 'type'>\n"
     ]
    },
    {
     "data": {
      "text/plain": [
       "1"
      ]
     },
     "execution_count": 1,
     "metadata": {},
     "output_type": "execute_result"
    }
   ],
   "source": [
    "# Tuple Defination\n",
    "\n",
    "tup = (10,20,30,40)\n",
    "print(type(tuple))\n",
    "tup.count(10)"
   ]
  },
  {
   "cell_type": "code",
   "execution_count": 2,
   "id": "171ece31",
   "metadata": {},
   "outputs": [
    {
     "data": {
      "text/plain": [
       "0"
      ]
     },
     "execution_count": 2,
     "metadata": {},
     "output_type": "execute_result"
    }
   ],
   "source": [
    "tup.index(10)"
   ]
  },
  {
   "cell_type": "code",
   "execution_count": 3,
   "id": "bb7f0e34",
   "metadata": {},
   "outputs": [
    {
     "name": "stdout",
     "output_type": "stream",
     "text": [
      "70 80\n"
     ]
    }
   ],
   "source": [
    "# Tuple Indexing and Slicing\n",
    "\n",
    "tup = (10,20,30,[40,50,(30,40,(60,70,80))])\n",
    "\n",
    "# Example\n",
    "\n",
    "# O/P : 70,80\n",
    "\n",
    "output=tup[3][2][2][1:]\n",
    "print(*output)"
   ]
  },
  {
   "cell_type": "code",
   "execution_count": 4,
   "id": "587cdbdd",
   "metadata": {},
   "outputs": [
    {
     "name": "stdout",
     "output_type": "stream",
     "text": [
      "The value is 10\n"
     ]
    }
   ],
   "source": [
    "# Condtitonal Statement\n",
    "\n",
    "''' \n",
    "\n",
    "if condtition == True:\n",
    "   Perform Operation inside the loop\n",
    "else:\n",
    "   perform this operation\n",
    "\n",
    "Note: = : Assignment Operator\n",
    "      ==: Comparison Operator  \n",
    "\n",
    "'''\n",
    "\n",
    "num = 10\n",
    "\n",
    "if num == 10:\n",
    "\n",
    "    print('The value is 10')\n",
    "else:\n",
    "    print('The Value is other than 10')"
   ]
  },
  {
   "cell_type": "code",
   "execution_count": 5,
   "id": "15837f78",
   "metadata": {},
   "outputs": [
    {
     "name": "stdout",
     "output_type": "stream",
     "text": [
      "The Given String is Palindrom\n"
     ]
    }
   ],
   "source": [
    "# Check the given string is palindrom or not\n",
    "\n",
    "text = 'dad'\n",
    "text1 = text[::-1]\n",
    "\n",
    "\n",
    "if text == text1:\n",
    "   print('The Given String is Palindrom') \n",
    "else:\n",
    "   print('The Given String is Not a Palindrom')"
   ]
  },
  {
   "cell_type": "code",
   "execution_count": 8,
   "id": "9e573e17",
   "metadata": {},
   "outputs": [
    {
     "name": "stdout",
     "output_type": "stream",
     "text": [
      "Bright Student\n"
     ]
    }
   ],
   "source": [
    "'''  \n",
    "if condition:\n",
    "    statement\n",
    "elif condtiton:\n",
    "else:\n",
    "    statement     \n",
    "'''\n",
    "\n",
    "\n",
    "'''\n",
    "marks > 80  : Best Student\n",
    "Marks between 60 to 79 : Good Student\n",
    "Marks between 50 to 59 : Average Student\n",
    "Marks < 49 : Poor Student\n",
    "\n",
    "'''\n",
    "marks = float (input('Enter Marks  of the Student:'))\n",
    "\n",
    "if (marks > 80):\n",
    "    print('Bright Student')\n",
    "elif (marks < 80 and marks > 60):\n",
    "    print('Good Student')\n",
    "elif (marks < 60 and marks > 50):\n",
    "    print('Average Student')\n",
    "else:\n",
    "    print('Poor Student')"
   ]
  },
  {
   "cell_type": "code",
   "execution_count": 9,
   "id": "313b5bcb",
   "metadata": {},
   "outputs": [
    {
     "name": "stdout",
     "output_type": "stream",
     "text": [
      "New Balance is  2000.0\n"
     ]
    }
   ],
   "source": [
    "'''\n",
    "Balance = 10000\n",
    "Withdraw = amount\n",
    "threshould value = 2000\n",
    "\n",
    "'''\n",
    "\n",
    "balance = 10000\n",
    "threshold = 2000\n",
    "withdraw = float(input('Enter the Amount to Withdraw: '))\n",
    "\n",
    "if withdraw >= balance:\n",
    "    print('Insufficient Balance')\n",
    "if withdraw <= balance:\n",
    "        new_balance = balance - withdraw\n",
    "        if new_balance >= 2000:\n",
    "            print('New Balance is ',new_balance)\n",
    "        else:\n",
    "            print('Check Your Transaction')"
   ]
  },
  {
   "cell_type": "code",
   "execution_count": 10,
   "id": "d65514dc",
   "metadata": {},
   "outputs": [
    {
     "name": "stdout",
     "output_type": "stream",
     "text": [
      "0\n",
      "1\n",
      "2\n",
      "3\n",
      "4\n",
      "5\n",
      "6\n",
      "7\n",
      "8\n",
      "9\n"
     ]
    }
   ],
   "source": [
    "# For Loop\n",
    "\n",
    "for i in range(0,10):\n",
    "    print(i)"
   ]
  },
  {
   "cell_type": "code",
   "execution_count": 11,
   "id": "2f94c6de",
   "metadata": {},
   "outputs": [
    {
     "name": "stdout",
     "output_type": "stream",
     "text": [
      "1 2 3 4 5 6 7 8 9 10 "
     ]
    }
   ],
   "source": [
    "for i in range(1,11):\n",
    "    print(i,end=\" \")"
   ]
  },
  {
   "cell_type": "code",
   "execution_count": 12,
   "id": "79950951",
   "metadata": {},
   "outputs": [
    {
     "name": "stdout",
     "output_type": "stream",
     "text": [
      "*\n",
      "**\n",
      "***\n",
      "****\n",
      "*****\n"
     ]
    }
   ],
   "source": [
    "'''\n",
    "*\n",
    "**\n",
    "***\n",
    "****\n",
    "*****\n",
    "\n",
    "'''\n",
    "\n",
    "for i in range(1,6):\n",
    "    print('*'*i)"
   ]
  },
  {
   "cell_type": "code",
   "execution_count": 13,
   "id": "f6c90e9c",
   "metadata": {},
   "outputs": [
    {
     "name": "stdout",
     "output_type": "stream",
     "text": [
      "*\n",
      "****\n",
      "*********\n",
      "****************\n",
      "*************************\n"
     ]
    }
   ],
   "source": [
    "for i in range(1,6):\n",
    "    print('*'*i*i)"
   ]
  }
 ],
 "metadata": {
  "kernelspec": {
   "display_name": "base",
   "language": "python",
   "name": "python3"
  },
  "language_info": {
   "codemirror_mode": {
    "name": "ipython",
    "version": 3
   },
   "file_extension": ".py",
   "mimetype": "text/x-python",
   "name": "python",
   "nbconvert_exporter": "python",
   "pygments_lexer": "ipython3",
   "version": "3.12.7"
  }
 },
 "nbformat": 4,
 "nbformat_minor": 5
}
