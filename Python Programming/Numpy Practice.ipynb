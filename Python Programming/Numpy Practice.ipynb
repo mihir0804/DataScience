{
 "cells": [
  {
   "cell_type": "code",
   "execution_count": 1,
   "id": "4b005d08",
   "metadata": {},
   "outputs": [
    {
     "name": "stdout",
     "output_type": "stream",
     "text": [
      "<class 'list'>\n"
     ]
    }
   ],
   "source": [
    "#1D Array\n",
    "arr = [1,2,3,4,5]\n",
    "print(type(arr))"
   ]
  },
  {
   "cell_type": "code",
   "execution_count": 2,
   "id": "31fe8b07",
   "metadata": {},
   "outputs": [],
   "source": [
    "arr.append(6)"
   ]
  },
  {
   "cell_type": "code",
   "execution_count": 3,
   "id": "ff2896ed",
   "metadata": {},
   "outputs": [
    {
     "data": {
      "text/plain": [
       "[1, 2, 3, 4, 5, 6]"
      ]
     },
     "execution_count": 3,
     "metadata": {},
     "output_type": "execute_result"
    }
   ],
   "source": [
    "arr"
   ]
  },
  {
   "cell_type": "code",
   "execution_count": 4,
   "id": "74fea534",
   "metadata": {},
   "outputs": [
    {
     "name": "stdout",
     "output_type": "stream",
     "text": [
      "1\n",
      "(6,)\n",
      "[1 2 3 4 5 6]\n"
     ]
    }
   ],
   "source": [
    "#Numpy Array Formation\n",
    "\n",
    "import numpy as np\n",
    "\n",
    "arr = np.array(arr)\n",
    "print(arr.ndim) # n Dimmentions\n",
    "print(arr.shape) # Dataset Shape: row, columns\n",
    "print(arr)     # print: Array"
   ]
  },
  {
   "cell_type": "code",
   "execution_count": 5,
   "id": "dcc4ca04",
   "metadata": {},
   "outputs": [
    {
     "name": "stdout",
     "output_type": "stream",
     "text": [
      "2\n",
      "(2, 3)\n",
      "[[1 2 3]\n",
      " [4 5 6]]\n"
     ]
    }
   ],
   "source": [
    "# 2D array\n",
    "\n",
    "arr1 = [[1,2,3,],[4,5,6]]\n",
    "arr1 = np.array(arr1)\n",
    "print(arr1.ndim)\n",
    "print(arr1.shape)\n",
    "print(arr1)"
   ]
  },
  {
   "cell_type": "code",
   "execution_count": 6,
   "id": "5952952e",
   "metadata": {},
   "outputs": [
    {
     "name": "stdout",
     "output_type": "stream",
     "text": [
      "3\n",
      "(1, 2, 3)\n",
      "[[[1 2 3]\n",
      "  [4 5 6]]]\n"
     ]
    }
   ],
   "source": [
    "#3D Array \n",
    "\n",
    "arr2 = [[[1,2,3],[4,5,6]]]\n",
    "arr2 = np.array(arr2)\n",
    "print(arr2.ndim)\n",
    "print(arr2.shape)\n",
    "print(arr2)"
   ]
  },
  {
   "cell_type": "code",
   "execution_count": 7,
   "id": "e2897c7a",
   "metadata": {},
   "outputs": [
    {
     "name": "stdout",
     "output_type": "stream",
     "text": [
      "[[11 22 33]\n",
      " [44 55 66]\n",
      " [77 88 99]]\n"
     ]
    }
   ],
   "source": [
    "a = ([[1,2,3],[4,5,6,],[7,8,9]])\n",
    "b = np.array([[10,20,30],[40,50,60],[70,80,90]])\n",
    "\n",
    "c =a+b\n",
    "print(c)"
   ]
  },
  {
   "cell_type": "code",
   "execution_count": 8,
   "id": "6cbf9834",
   "metadata": {},
   "outputs": [
    {
     "name": "stdout",
     "output_type": "stream",
     "text": [
      "[[ 10  40  90]\n",
      " [160 250 360]\n",
      " [490 640 810]]\n"
     ]
    }
   ],
   "source": [
    "a = ([[1,2,3],[4,5,6,],[7,8,9]])\n",
    "b = np.array([[10,20,30],[40,50,60],[70,80,90]])\n",
    "\n",
    "c = a*b\n",
    "print(c)"
   ]
  },
  {
   "cell_type": "code",
   "execution_count": 9,
   "id": "69a5eaef",
   "metadata": {},
   "outputs": [
    {
     "name": "stdout",
     "output_type": "stream",
     "text": [
      "[[0.1 0.1 0.1]\n",
      " [0.1 0.1 0.1]\n",
      " [0.1 0.1 0.1]]\n"
     ]
    }
   ],
   "source": [
    "a = ([[1,2,3],[4,5,6,],[7,8,9]])\n",
    "b = np.array([[10,20,30],[40,50,60],[70,80,90]])\n",
    "\n",
    "c = a/b\n",
    "print(c)"
   ]
  },
  {
   "cell_type": "markdown",
   "id": "6c46f295",
   "metadata": {},
   "source": [
    "Diagonal Matrix"
   ]
  },
  {
   "cell_type": "code",
   "execution_count": 12,
   "id": "66c4b822",
   "metadata": {},
   "outputs": [
    {
     "name": "stdout",
     "output_type": "stream",
     "text": [
      "[[ 2.  2.  3.]\n",
      " [ 4.  6.  6.]\n",
      " [ 7.  8. 10.]]\n"
     ]
    }
   ],
   "source": [
    "a = ([[1,2,3],[4,5,6,],[7,8,9]])\n",
    "b = np.array([[10,20,30],[40,50,60],[70,80,90]])\n",
    "c = np.eye(3) # Diagonal Matrix\n",
    "\n",
    "d = a+c\n",
    "print(d)"
   ]
  },
  {
   "cell_type": "code",
   "execution_count": 13,
   "id": "0011b805",
   "metadata": {},
   "outputs": [
    {
     "name": "stdout",
     "output_type": "stream",
     "text": [
      "[[ 2.  3.  4.]\n",
      " [ 5.  6.  7.]\n",
      " [ 8.  9. 10.]]\n"
     ]
    }
   ],
   "source": [
    "a = ([[1,2,3],[4,5,6,],[7,8,9]])\n",
    "b = np.array([[10,20,30],[40,50,60],[70,80,90]])\n",
    "c = np.eye(3)\n",
    "d = np.zeros(3)\n",
    "e = np.ones(3)\n",
    "\n",
    "z = a + e\n",
    "print(z)"
   ]
  },
  {
   "cell_type": "code",
   "execution_count": null,
   "id": "5ac983a2",
   "metadata": {},
   "outputs": [],
   "source": []
  }
 ],
 "metadata": {
  "kernelspec": {
   "display_name": "base",
   "language": "python",
   "name": "python3"
  },
  "language_info": {
   "codemirror_mode": {
    "name": "ipython",
    "version": 3
   },
   "file_extension": ".py",
   "mimetype": "text/x-python",
   "name": "python",
   "nbconvert_exporter": "python",
   "pygments_lexer": "ipython3",
   "version": "3.12.7"
  }
 },
 "nbformat": 4,
 "nbformat_minor": 5
}
