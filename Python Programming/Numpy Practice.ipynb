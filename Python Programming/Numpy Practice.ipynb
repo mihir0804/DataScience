{
 "cells": [
  {
   "cell_type": "markdown",
   "id": "19307c7f",
   "metadata": {},
   "source": [
    "## PRACTICING FUNCTION ARRAY "
   ]
  },
  {
   "cell_type": "markdown",
   "id": "eb1ac473",
   "metadata": {},
   "source": [
    "### 1D ARRAY"
   ]
  },
  {
   "cell_type": "code",
   "execution_count": 50,
   "id": "4b005d08",
   "metadata": {},
   "outputs": [
    {
     "name": "stdout",
     "output_type": "stream",
     "text": [
      "<class 'list'>\n"
     ]
    }
   ],
   "source": [
    "#1D Array\n",
    "arr = [1,2,3,4,5]\n",
    "print(type(arr))"
   ]
  },
  {
   "cell_type": "code",
   "execution_count": 51,
   "id": "31fe8b07",
   "metadata": {},
   "outputs": [],
   "source": [
    "arr.append(6)"
   ]
  },
  {
   "cell_type": "code",
   "execution_count": 52,
   "id": "ff2896ed",
   "metadata": {},
   "outputs": [
    {
     "data": {
      "text/plain": [
       "[1, 2, 3, 4, 5, 6]"
      ]
     },
     "execution_count": 52,
     "metadata": {},
     "output_type": "execute_result"
    }
   ],
   "source": [
    "arr"
   ]
  },
  {
   "cell_type": "markdown",
   "id": "a663cd8a",
   "metadata": {},
   "source": [
    "### PRACTICING NUMPY ARRAY"
   ]
  },
  {
   "cell_type": "code",
   "execution_count": 53,
   "id": "74fea534",
   "metadata": {},
   "outputs": [
    {
     "name": "stdout",
     "output_type": "stream",
     "text": [
      "1\n",
      "(6,)\n",
      "[1 2 3 4 5 6]\n"
     ]
    }
   ],
   "source": [
    "#Numpy Array Formation\n",
    "\n",
    "import numpy as np\n",
    "\n",
    "arr = np.array(arr)\n",
    "print(arr.ndim) # n Dimmentions\n",
    "print(arr.shape) # Dataset Shape: row, columns\n",
    "print(arr)     # print: Array"
   ]
  },
  {
   "cell_type": "markdown",
   "id": "0f9631db",
   "metadata": {},
   "source": [
    "### PRACTICING 2D ARRAY"
   ]
  },
  {
   "cell_type": "code",
   "execution_count": 54,
   "id": "dcc4ca04",
   "metadata": {},
   "outputs": [
    {
     "name": "stdout",
     "output_type": "stream",
     "text": [
      "2\n",
      "(2, 3)\n",
      "[[1 2 3]\n",
      " [4 5 6]]\n"
     ]
    }
   ],
   "source": [
    "# 2D array\n",
    "\n",
    "arr1 = [[1,2,3,],[4,5,6]]\n",
    "arr1 = np.array(arr1)\n",
    "print(arr1.ndim)\n",
    "print(arr1.shape)\n",
    "print(arr1)"
   ]
  },
  {
   "cell_type": "markdown",
   "id": "302fd5a0",
   "metadata": {},
   "source": [
    "### PRACTICING 3D ARRAY"
   ]
  },
  {
   "cell_type": "code",
   "execution_count": 55,
   "id": "5952952e",
   "metadata": {},
   "outputs": [
    {
     "name": "stdout",
     "output_type": "stream",
     "text": [
      "3\n",
      "(1, 2, 3)\n",
      "[[[1 2 3]\n",
      "  [4 5 6]]]\n"
     ]
    }
   ],
   "source": [
    "#3D Array \n",
    "\n",
    "arr2 = [[[1,2,3],[4,5,6]]]\n",
    "arr2 = np.array(arr2)\n",
    "print(arr2.ndim)\n",
    "print(arr2.shape)\n",
    "print(arr2)"
   ]
  },
  {
   "cell_type": "code",
   "execution_count": 56,
   "id": "e2897c7a",
   "metadata": {},
   "outputs": [
    {
     "name": "stdout",
     "output_type": "stream",
     "text": [
      "[[11 22 33]\n",
      " [44 55 66]\n",
      " [77 88 99]]\n"
     ]
    }
   ],
   "source": [
    "a = ([[1,2,3],[4,5,6,],[7,8,9]])\n",
    "b = np.array([[10,20,30],[40,50,60],[70,80,90]])\n",
    "\n",
    "c =a+b\n",
    "print(c)"
   ]
  },
  {
   "cell_type": "code",
   "execution_count": 57,
   "id": "6cbf9834",
   "metadata": {},
   "outputs": [
    {
     "name": "stdout",
     "output_type": "stream",
     "text": [
      "[[ 10  40  90]\n",
      " [160 250 360]\n",
      " [490 640 810]]\n"
     ]
    }
   ],
   "source": [
    "a = ([[1,2,3],[4,5,6,],[7,8,9]])\n",
    "b = np.array([[10,20,30],[40,50,60],[70,80,90]])\n",
    "\n",
    "c = a*b\n",
    "print(c)"
   ]
  },
  {
   "cell_type": "code",
   "execution_count": 58,
   "id": "69a5eaef",
   "metadata": {},
   "outputs": [
    {
     "name": "stdout",
     "output_type": "stream",
     "text": [
      "[[0.1 0.1 0.1]\n",
      " [0.1 0.1 0.1]\n",
      " [0.1 0.1 0.1]]\n"
     ]
    }
   ],
   "source": [
    "a = ([[1,2,3],[4,5,6,],[7,8,9]])\n",
    "b = np.array([[10,20,30],[40,50,60],[70,80,90]])\n",
    "\n",
    "c = a/b\n",
    "print(c)"
   ]
  },
  {
   "cell_type": "markdown",
   "id": "6c46f295",
   "metadata": {},
   "source": [
    "### Diagonal Matrix"
   ]
  },
  {
   "cell_type": "code",
   "execution_count": 59,
   "id": "66c4b822",
   "metadata": {},
   "outputs": [
    {
     "name": "stdout",
     "output_type": "stream",
     "text": [
      "[[ 2.  2.  3.]\n",
      " [ 4.  6.  6.]\n",
      " [ 7.  8. 10.]]\n"
     ]
    }
   ],
   "source": [
    "a = ([[1,2,3],[4,5,6,],[7,8,9]])\n",
    "b = np.array([[10,20,30],[40,50,60],[70,80,90]])\n",
    "c = np.eye(3) # Diagonal Matrix\n",
    "\n",
    "d = a+c\n",
    "print(d)"
   ]
  },
  {
   "cell_type": "code",
   "execution_count": 60,
   "id": "0011b805",
   "metadata": {},
   "outputs": [
    {
     "name": "stdout",
     "output_type": "stream",
     "text": [
      "[[ 2.  3.  4.]\n",
      " [ 5.  6.  7.]\n",
      " [ 8.  9. 10.]]\n"
     ]
    }
   ],
   "source": [
    "a = ([[1,2,3],[4,5,6,],[7,8,9]])\n",
    "b = np.array([[10,20,30],[40,50,60],[70,80,90]])\n",
    "c = np.eye(3)\n",
    "d = np.zeros(3)\n",
    "e = np.ones(3)\n",
    "\n",
    "z = a + e\n",
    "print(z)"
   ]
  },
  {
   "cell_type": "code",
   "execution_count": 61,
   "id": "bc636516",
   "metadata": {},
   "outputs": [
    {
     "data": {
      "text/plain": [
       "[[1, 2, 3], [4, 5, 6], [7, 8, 9]]"
      ]
     },
     "execution_count": 61,
     "metadata": {},
     "output_type": "execute_result"
    }
   ],
   "source": [
    "a"
   ]
  },
  {
   "cell_type": "code",
   "execution_count": 62,
   "id": "709f2bc9",
   "metadata": {},
   "outputs": [
    {
     "data": {
      "text/plain": [
       "[[1, 2, 3], [4, 5, 6], [7, 8, 9], [1, 2, 3], [4, 5, 6], [7, 8, 9]]"
      ]
     },
     "execution_count": 62,
     "metadata": {},
     "output_type": "execute_result"
    }
   ],
   "source": [
    "a*2"
   ]
  },
  {
   "cell_type": "code",
   "execution_count": null,
   "id": "edc82a41",
   "metadata": {},
   "outputs": [
    {
     "data": {
      "text/plain": [
       "array([ 0.+0.j,  6.+0.j, 12.+0.j])"
      ]
     },
     "execution_count": 49,
     "metadata": {},
     "output_type": "execute_result"
    }
   ],
   "source": [
    "a*[2,3,4]"
   ]
  },
  {
   "cell_type": "code",
   "execution_count": null,
   "id": "5ac983a2",
   "metadata": {},
   "outputs": [
    {
     "name": "stdout",
     "output_type": "stream",
     "text": [
      "[1. 2. 3.]\n"
     ]
    }
   ],
   "source": [
    "# Changing Dtype : Datatype\n",
    "\n",
    "a = np.array([1,2,3],dtype = 'float')\n",
    "print(a)\n"
   ]
  },
  {
   "cell_type": "code",
   "execution_count": null,
   "id": "2beafe03",
   "metadata": {},
   "outputs": [
    {
     "data": {
      "text/plain": [
       "array([False,  True,  True])"
      ]
     },
     "execution_count": 44,
     "metadata": {},
     "output_type": "execute_result"
    }
   ],
   "source": [
    "a = np.array([0,2,3],dtype = 'bool')\n",
    "a  "
   ]
  },
  {
   "cell_type": "code",
   "execution_count": null,
   "id": "62a23b42",
   "metadata": {},
   "outputs": [
    {
     "data": {
      "text/plain": [
       "array([0.+0.j, 2.+0.j, 3.+0.j])"
      ]
     },
     "execution_count": 45,
     "metadata": {},
     "output_type": "execute_result"
    }
   ],
   "source": [
    "a = np.array([0,2,3],dtype = 'complex')\n",
    "a  "
   ]
  },
  {
   "cell_type": "code",
   "execution_count": null,
   "id": "709f0213",
   "metadata": {},
   "outputs": [
    {
     "data": {
      "text/plain": [
       "array([1, 3, 5, 7, 9])"
      ]
     },
     "execution_count": 20,
     "metadata": {},
     "output_type": "execute_result"
    }
   ],
   "source": [
    "# Arange Function\n",
    "# np.arange(start,stop,step)\n",
    "\n",
    "\n",
    "a = np.arange(1,10,2)\n",
    "a"
   ]
  },
  {
   "cell_type": "code",
   "execution_count": null,
   "id": "4e9e53df",
   "metadata": {},
   "outputs": [
    {
     "data": {
      "text/plain": [
       "array([ 0,  1,  2,  3,  4,  5,  6,  7,  8,  9, 10, 11, 12, 13, 14, 15, 16,\n",
       "       17, 18, 19])"
      ]
     },
     "execution_count": 21,
     "metadata": {},
     "output_type": "execute_result"
    }
   ],
   "source": [
    "num = np.arange(0,20)\n",
    "num"
   ]
  },
  {
   "cell_type": "code",
   "execution_count": null,
   "id": "8409218c",
   "metadata": {},
   "outputs": [
    {
     "data": {
      "text/plain": [
       "array([[ 0,  1,  2,  3],\n",
       "       [ 4,  5,  6,  7],\n",
       "       [ 8,  9, 10, 11],\n",
       "       [12, 13, 14, 15],\n",
       "       [16, 17, 18, 19]])"
      ]
     },
     "execution_count": 22,
     "metadata": {},
     "output_type": "execute_result"
    }
   ],
   "source": [
    "num.reshape(5,4)"
   ]
  },
  {
   "cell_type": "code",
   "execution_count": null,
   "id": "fae0556e",
   "metadata": {},
   "outputs": [
    {
     "data": {
      "text/plain": [
       "array([[ 0,  1,  2,  3,  4,  5,  6,  7,  8,  9],\n",
       "       [10, 11, 12, 13, 14, 15, 16, 17, 18, 19]])"
      ]
     },
     "execution_count": 23,
     "metadata": {},
     "output_type": "execute_result"
    }
   ],
   "source": [
    "num.reshape(2,10)"
   ]
  },
  {
   "cell_type": "code",
   "execution_count": null,
   "id": "a409f40b",
   "metadata": {},
   "outputs": [
    {
     "data": {
      "text/plain": [
       "array([[ 0],\n",
       "       [ 1],\n",
       "       [ 2],\n",
       "       [ 3],\n",
       "       [ 4],\n",
       "       [ 5],\n",
       "       [ 6],\n",
       "       [ 7],\n",
       "       [ 8],\n",
       "       [ 9],\n",
       "       [10],\n",
       "       [11],\n",
       "       [12],\n",
       "       [13],\n",
       "       [14],\n",
       "       [15],\n",
       "       [16],\n",
       "       [17],\n",
       "       [18],\n",
       "       [19]])"
      ]
     },
     "execution_count": 26,
     "metadata": {},
     "output_type": "execute_result"
    }
   ],
   "source": [
    "num.reshape(20,1)"
   ]
  },
  {
   "cell_type": "code",
   "execution_count": null,
   "id": "94c4c910",
   "metadata": {},
   "outputs": [
    {
     "data": {
      "text/plain": [
       "array([[ 0,  1,  2,  3,  4,  5,  6,  7,  8,  9, 10, 11, 12, 13, 14, 15,\n",
       "        16, 17, 18, 19]])"
      ]
     },
     "execution_count": 27,
     "metadata": {},
     "output_type": "execute_result"
    }
   ],
   "source": [
    "num.reshape(1,20)"
   ]
  },
  {
   "cell_type": "code",
   "execution_count": null,
   "id": "802fb2bf",
   "metadata": {},
   "outputs": [
    {
     "data": {
      "text/plain": [
       "array([[[ 0,  1,  2,  3,  4,  5,  6,  7,  8,  9, 10, 11, 12, 13, 14, 15,\n",
       "         16, 17, 18, 19]]])"
      ]
     },
     "execution_count": 29,
     "metadata": {},
     "output_type": "execute_result"
    }
   ],
   "source": [
    "num.reshape(1,1,20)"
   ]
  },
  {
   "cell_type": "code",
   "execution_count": null,
   "id": "cb77b426",
   "metadata": {},
   "outputs": [
    {
     "data": {
      "text/plain": [
       "array([ 1.        ,  2.28571429,  3.57142857,  4.85714286,  6.14285714,\n",
       "        7.42857143,  8.71428571, 10.        ])"
      ]
     },
     "execution_count": 30,
     "metadata": {},
     "output_type": "execute_result"
    }
   ],
   "source": [
    "np.linspace(1,10,8)"
   ]
  },
  {
   "cell_type": "code",
   "execution_count": null,
   "id": "257f9556",
   "metadata": {},
   "outputs": [
    {
     "name": "stdout",
     "output_type": "stream",
     "text": [
      "10\n"
     ]
    },
    {
     "data": {
      "text/plain": [
       "array([ 0.        ,  2.22222222,  4.44444444,  6.66666667,  8.88888889,\n",
       "       11.11111111, 13.33333333, 15.55555556, 17.77777778, 20.        ])"
      ]
     },
     "execution_count": 32,
     "metadata": {},
     "output_type": "execute_result"
    }
   ],
   "source": [
    "a = np.linspace(0,20,10)\n",
    "print(a.size)\n",
    "a"
   ]
  },
  {
   "cell_type": "code",
   "execution_count": null,
   "id": "818ef37d",
   "metadata": {},
   "outputs": [
    {
     "data": {
      "text/plain": [
       "array([ 0,  1,  2,  3,  4,  5,  6,  7,  8,  9, 10, 11, 12, 13, 14, 15, 16,\n",
       "       17, 18, 19, 20, 21, 22, 23, 24, 25, 26, 27, 28, 29])"
      ]
     },
     "execution_count": 39,
     "metadata": {},
     "output_type": "execute_result"
    }
   ],
   "source": [
    "num = np.arange(0,30)\n",
    "num"
   ]
  },
  {
   "cell_type": "code",
   "execution_count": null,
   "id": "20b5cb41",
   "metadata": {},
   "outputs": [
    {
     "data": {
      "text/plain": [
       "array([[ 0,  1,  2,  3,  4,  5],\n",
       "       [ 6,  7,  8,  9, 10, 11],\n",
       "       [12, 13, 14, 15, 16, 17],\n",
       "       [18, 19, 20, 21, 22, 23],\n",
       "       [24, 25, 26, 27, 28, 29]])"
      ]
     },
     "execution_count": 40,
     "metadata": {},
     "output_type": "execute_result"
    }
   ],
   "source": [
    "arr = num.reshape(5,6)\n",
    "arr"
   ]
  },
  {
   "cell_type": "code",
   "execution_count": null,
   "id": "2854202d",
   "metadata": {},
   "outputs": [
    {
     "data": {
      "text/plain": [
       "(29, 0, 14.5, 8.65544144839919)"
      ]
     },
     "execution_count": 42,
     "metadata": {},
     "output_type": "execute_result"
    }
   ],
   "source": [
    "arr.max(),arr.min(),arr.mean(),arr.std()"
   ]
  }
 ],
 "metadata": {
  "kernelspec": {
   "display_name": "base",
   "language": "python",
   "name": "python3"
  },
  "language_info": {
   "codemirror_mode": {
    "name": "ipython",
    "version": 3
   },
   "file_extension": ".py",
   "mimetype": "text/x-python",
   "name": "python",
   "nbconvert_exporter": "python",
   "pygments_lexer": "ipython3",
   "version": "3.12.7"
  }
 },
 "nbformat": 4,
 "nbformat_minor": 5
}
