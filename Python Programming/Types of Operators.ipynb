{
 "cells": [
  {
   "cell_type": "markdown",
   "id": "602855b4",
   "metadata": {},
   "source": [
    "## 1.] ARITHMETIC OPERATORS."
   ]
  },
  {
   "cell_type": "code",
   "execution_count": 1,
   "id": "6c53b913",
   "metadata": {},
   "outputs": [
    {
     "name": "stdout",
     "output_type": "stream",
     "text": [
      "7\n",
      "3\n",
      "10\n",
      "2.5\n",
      "1\n",
      "25\n"
     ]
    }
   ],
   "source": [
    "a = 5\n",
    "b = 2\n",
    "\n",
    "print(a + b) # Addition\n",
    "print(a - b) # Substraction\n",
    "print(a * b) # Multiplication\n",
    "print(a / b) # Division\n",
    "print(a % b) # Remainder\n",
    "print(a ** b) # a^b\n",
    "\n"
   ]
  },
  {
   "cell_type": "markdown",
   "id": "6f8a15c2",
   "metadata": {},
   "source": [
    "## 2.] Relational / Comparison Operator."
   ]
  },
  {
   "cell_type": "code",
   "execution_count": 2,
   "id": "baf38e1a",
   "metadata": {},
   "outputs": [
    {
     "name": "stdout",
     "output_type": "stream",
     "text": [
      "False\n",
      "True\n",
      "True\n",
      "False\n",
      "True\n",
      "False\n"
     ]
    }
   ],
   "source": [
    "a = 50\n",
    "b = 20\n",
    "\n",
    "print(a == b) # False\n",
    "print(a != b) # True\n",
    "print(a >= b)  # True\n",
    "print(a <= b)  # False\n",
    "print(a > b)  # True\n",
    "print(a < b)  # False"
   ]
  },
  {
   "cell_type": "markdown",
   "id": "4861a69b",
   "metadata": {},
   "source": [
    "## 3.] ASSINGNMENT OPERATORS"
   ]
  },
  {
   "cell_type": "code",
   "execution_count": 3,
   "id": "55a33a9c",
   "metadata": {},
   "outputs": [
    {
     "name": "stdout",
     "output_type": "stream",
     "text": [
      "num : 0.0\n"
     ]
    }
   ],
   "source": [
    "num = 10\n",
    "num += 10 # 20\n",
    "num -= 10 # 0\n",
    "num *= 5 # 50\n",
    "num /= 5 # 2\n",
    "num %= 10 # 0\n",
    "num **= 5 # 1,00,000\n",
    "print(\"num :\", num)"
   ]
  },
  {
   "cell_type": "code",
   "execution_count": 4,
   "id": "a62576ae",
   "metadata": {},
   "outputs": [
    {
     "name": "stdout",
     "output_type": "stream",
     "text": [
      "num : 100000\n"
     ]
    }
   ],
   "source": [
    "num = 10\n",
    "num **= 5\n",
    "print(\"num :\", num) # same as follows\n"
   ]
  },
  {
   "cell_type": "markdown",
   "id": "e58ca117",
   "metadata": {},
   "source": [
    "## 4.] LOGICAL OPERATOR"
   ]
  },
  {
   "cell_type": "code",
   "execution_count": 5,
   "id": "3df83339",
   "metadata": {},
   "outputs": [
    {
     "name": "stdout",
     "output_type": "stream",
     "text": [
      "True\n",
      "False\n"
     ]
    }
   ],
   "source": [
    "a = 50\n",
    "b = 30\n",
    "print(not False)\n",
    "print(not(a > b))"
   ]
  },
  {
   "cell_type": "code",
   "execution_count": 6,
   "id": "54199c70",
   "metadata": {},
   "outputs": [
    {
     "name": "stdout",
     "output_type": "stream",
     "text": [
      "True\n",
      "False\n"
     ]
    }
   ],
   "source": [
    "print(not False)\n",
    "print(not True)"
   ]
  },
  {
   "cell_type": "code",
   "execution_count": null,
   "id": "7d527ab0",
   "metadata": {},
   "outputs": [
    {
     "name": "stdout",
     "output_type": "stream",
     "text": [
      "And operator: True\n",
      "OR operator: True\n",
      "OR operator: True\n"
     ]
    }
   ],
   "source": [
    "val1 = True\n",
    "val2 = True\n",
    "print(\"And operator:\", val1 and val2)\n",
    "\n",
    "print(\"OR operator:\", val1 or val2)\n",
    "\n",
    "print(\"OR operator:\", (a == b) or (a > b)) # Uesed Comparsion operator"
   ]
  },
  {
   "cell_type": "code",
   "execution_count": null,
   "id": "32d1fb0a",
   "metadata": {},
   "outputs": [],
   "source": [
    "'''\n",
    "Logical Operators in Python Programming\n",
    "== comparison operator\n",
    "< less than\n",
    "> greater than\n",
    "<= less than equal to\n",
    ">= greater than equal to\n",
    "!= not equal to\n",
    "= Assignment Operator\n",
    "& = And Logic Operator\n",
    "| = Or Logic Operator\n",
    "~ = Not Logic Operator or Tilde Operator\n",
    "\n",
    "'''"
   ]
  },
  {
   "cell_type": "markdown",
   "id": "d2961973",
   "metadata": {},
   "source": [
    "## TYPES CONVERTION"
   ]
  },
  {
   "cell_type": "code",
   "execution_count": 13,
   "id": "30677546",
   "metadata": {},
   "outputs": [
    {
     "name": "stdout",
     "output_type": "stream",
     "text": [
      "6.25\n"
     ]
    }
   ],
   "source": [
    "a = int(\"2\")\n",
    "b = 4.25\n",
    "\n",
    "print(a + b)"
   ]
  },
  {
   "cell_type": "markdown",
   "id": "b0a94ec3",
   "metadata": {},
   "source": [
    "### TYPE CASING"
   ]
  },
  {
   "cell_type": "code",
   "execution_count": 15,
   "id": "b0c4db71",
   "metadata": {},
   "outputs": [
    {
     "name": "stdout",
     "output_type": "stream",
     "text": [
      "<class 'float'>\n",
      "8.25\n"
     ]
    }
   ],
   "source": [
    "a = float(\"4\")\n",
    "b = 4.25\n",
    "\n",
    "print(type(a))\n",
    "print(a + b) "
   ]
  },
  {
   "cell_type": "code",
   "execution_count": null,
   "id": "5d6eb390",
   "metadata": {},
   "outputs": [
    {
     "name": "stdout",
     "output_type": "stream",
     "text": [
      "<class 'str'>\n"
     ]
    }
   ],
   "source": [
    "a = 3.14\n",
    "a = str(a)\n",
    "\n",
    "print(type(a)) # EXPLISET STRING"
   ]
  }
 ],
 "metadata": {
  "kernelspec": {
   "display_name": "base",
   "language": "python",
   "name": "python3"
  },
  "language_info": {
   "codemirror_mode": {
    "name": "ipython",
    "version": 3
   },
   "file_extension": ".py",
   "mimetype": "text/x-python",
   "name": "python",
   "nbconvert_exporter": "python",
   "pygments_lexer": "ipython3",
   "version": "3.12.7"
  }
 },
 "nbformat": 4,
 "nbformat_minor": 5
}
