{
 "cells": [
  {
   "cell_type": "code",
   "execution_count": 28,
   "id": "71eb5a3a",
   "metadata": {},
   "outputs": [
    {
     "name": "stdout",
     "output_type": "stream",
     "text": [
      "<class 'tuple'>\n"
     ]
    },
    {
     "data": {
      "text/plain": [
       "1"
      ]
     },
     "execution_count": 28,
     "metadata": {},
     "output_type": "execute_result"
    }
   ],
   "source": [
    "# Tuple Defination\n",
    "\n",
    "tup = (10,20,30)\n",
    "print(type(tup))\n",
    "tup.count(10)"
   ]
  },
  {
   "cell_type": "code",
   "execution_count": 29,
   "id": "588ac91c",
   "metadata": {},
   "outputs": [
    {
     "data": {
      "text/plain": [
       "0"
      ]
     },
     "execution_count": 29,
     "metadata": {},
     "output_type": "execute_result"
    }
   ],
   "source": [
    "tup.index(10)"
   ]
  },
  {
   "cell_type": "code",
   "execution_count": 30,
   "id": "ad26b585",
   "metadata": {},
   "outputs": [],
   "source": [
    "# tuple indexing and slicing\n",
    "\n",
    "tup = (10,20,30,[40,50,(30,40,(60,70,80))])"
   ]
  },
  {
   "cell_type": "code",
   "execution_count": 31,
   "id": "450656cd",
   "metadata": {},
   "outputs": [
    {
     "name": "stdout",
     "output_type": "stream",
     "text": [
      "70 80\n"
     ]
    }
   ],
   "source": [
    "# Example :\n",
    "# o/p: 70,80\n",
    "print(*tup[3][2][2][1:])"
   ]
  },
  {
   "cell_type": "code",
   "execution_count": 19,
   "id": "85c2a1c4",
   "metadata": {},
   "outputs": [
    {
     "data": {
      "text/plain": [
       "600"
      ]
     },
     "execution_count": 19,
     "metadata": {},
     "output_type": "execute_result"
    }
   ],
   "source": [
    "lst = [10,[100,200,300,[400,[500,[[[600,700,800,900,1000,1100,1200],700],1],10],20]]]\n",
    "lst[1][3][1][1][0][0][2:5]\n",
    "lst[1][3][1][1][0][0][:6][0]"
   ]
  },
  {
   "cell_type": "code",
   "execution_count": 18,
   "id": "4fc88dac",
   "metadata": {},
   "outputs": [
    {
     "data": {
      "text/plain": [
       "700"
      ]
     },
     "execution_count": 18,
     "metadata": {},
     "output_type": "execute_result"
    }
   ],
   "source": [
    "lst = [10,[100,200,300,[400,[500,[[[600,700,800,900,1000,1100,1200],700],1],10],20]]]\n",
    "lst[1][3][1][1][0][0][2:5]\n",
    "lst[1][3][1][1][0][0][:6][1]"
   ]
  },
  {
   "cell_type": "code",
   "execution_count": 17,
   "id": "1b973eaa",
   "metadata": {},
   "outputs": [
    {
     "data": {
      "text/plain": [
       "800"
      ]
     },
     "execution_count": 17,
     "metadata": {},
     "output_type": "execute_result"
    }
   ],
   "source": [
    "lst = [10,[100,200,300,[400,[500,[[[600,700,800,900,1000,1100,1200],700],1],10],20]]]\n",
    "lst[1][3][1][1][0][0][2:5]\n",
    "lst[1][3][1][1][0][0][:6][2]"
   ]
  },
  {
   "cell_type": "code",
   "execution_count": 16,
   "id": "57dfa1bb",
   "metadata": {},
   "outputs": [
    {
     "data": {
      "text/plain": [
       "900"
      ]
     },
     "execution_count": 16,
     "metadata": {},
     "output_type": "execute_result"
    }
   ],
   "source": [
    "lst = [10,[100,200,300,[400,[500,[[[600,700,800,900,1000,1100,1200],700],1],10],20]]]\n",
    "lst[1][3][1][1][0][0][2:5]\n",
    "lst[1][3][1][1][0][0][:6][3]"
   ]
  },
  {
   "cell_type": "code",
   "execution_count": 15,
   "id": "d1bbf520",
   "metadata": {},
   "outputs": [
    {
     "data": {
      "text/plain": [
       "1000"
      ]
     },
     "execution_count": 15,
     "metadata": {},
     "output_type": "execute_result"
    }
   ],
   "source": [
    "lst = [10,[100,200,300,[400,[500,[[[600,700,800,900,1000,1100,1200],700],1],10],20]]]\n",
    "lst[1][3][1][1][0][0][2:5]\n",
    "lst[1][3][1][1][0][0][:5][4]"
   ]
  },
  {
   "cell_type": "code",
   "execution_count": 11,
   "id": "407e14cb",
   "metadata": {},
   "outputs": [
    {
     "data": {
      "text/plain": [
       "1100"
      ]
     },
     "execution_count": 11,
     "metadata": {},
     "output_type": "execute_result"
    }
   ],
   "source": [
    "lst = [10,[100,200,300,[400,[500,[[[600,700,800,900,1000,1100,1200],700],1],10],20]]]\n",
    "lst[1][3][1][1][0][0][2:5]\n",
    "lst[1][3][1][1][0][0][:6][5]"
   ]
  },
  {
   "cell_type": "code",
   "execution_count": 14,
   "id": "39afa072",
   "metadata": {},
   "outputs": [
    {
     "data": {
      "text/plain": [
       "1200"
      ]
     },
     "execution_count": 14,
     "metadata": {},
     "output_type": "execute_result"
    }
   ],
   "source": [
    "lst = [10,[100,200,300,[400,[500,[[[600,700,800,900,1000,1100,1200],700],1],10],20]]]\n",
    "lst[1][3][1][1][0][0][2:5]\n",
    "lst[1][3][1][1][0][0][:7][6]"
   ]
  },
  {
   "cell_type": "code",
   "execution_count": 32,
   "id": "f4d63fe1",
   "metadata": {},
   "outputs": [
    {
     "name": "stdout",
     "output_type": "stream",
     "text": [
      "The value is 10\n"
     ]
    }
   ],
   "source": [
    "# Cnditional Statement\n",
    "''' \n",
    "if condition==True\n",
    "   Perform inside the loop\n",
    "else:\n",
    "   perform this operation \n",
    "\n",
    "Note : = : Assingnment Operator\n",
    "      == : Comparison Operation\n",
    "'''\n",
    "\n",
    "num = 10\n",
    "\n",
    "if num == 10:\n",
    "      print('The value is 10')\n",
    "else:\n",
    "      print('The Value is other than 10')\n",
    "      \n",
    "      "
   ]
  },
  {
   "cell_type": "code",
   "execution_count": null,
   "id": "12f140a6",
   "metadata": {},
   "outputs": [],
   "source": [
    "# check the given string is Palindrom or not\n",
    "\n",
    "text = 'dad'\n",
    "text = text [::-1]\n",
    "\n",
    "if text == text1:\n",
    "    print('The give string is palindrom')\n",
    "else:\n",
    "    print('The given string is Not a Palindrom')"
   ]
  },
  {
   "cell_type": "code",
   "execution_count": null,
   "id": "48c409f1",
   "metadata": {},
   "outputs": [],
   "source": [
    "'''\n",
    "if conditon:\n",
    "  statment\n",
    "  elif condition:\n",
    "    stateemnt\n",
    "else:\n",
    "  Statement    \n",
    "'''"
   ]
  },
  {
   "cell_type": "code",
   "execution_count": null,
   "id": "ec594e9b",
   "metadata": {},
   "outputs": [
    {
     "name": "stdout",
     "output_type": "stream",
     "text": [
      "Average Student\n"
     ]
    }
   ],
   "source": [
    "''' \n",
    "mark > 80 : Best Student\n",
    "mark between 60 to 79 : Good Student\n",
    "Mark between 50 to 59 : average Student\n",
    "Mark< 49 : Poor student\n",
    "'''\n",
    "marks = float(input('Enter marks of the Student'))\n",
    "\n",
    "if marks >= 80:\n",
    "\n",
    "  print('Best Student')\n",
    "elif marks < 80 and marks >60:\n",
    "  print('Good Student')\n",
    "elif marks <60 and marks >50:\n",
    "     print('Average Student')\n",
    "else:\n",
    "   print('poor Student')                     \n",
    "\n",
    "\n",
    "\n"
   ]
  },
  {
   "cell_type": "code",
   "execution_count": 3,
   "id": "2db6b3c8",
   "metadata": {},
   "outputs": [
    {
     "name": "stdout",
     "output_type": "stream",
     "text": [
      "New Balance is 2000.0\n"
     ]
    }
   ],
   "source": [
    "balance = 10000\n",
    "threshold = 2000\n",
    "withdraw = float(input('Enter the Amount to withdraw: '))\n",
    "\n",
    "if withdraw >= balance:\n",
    "    print('Insufficient Balance')\n",
    "else:\n",
    "    new_balance = balance - withdraw\n",
    "    if new_balance >= threshold:\n",
    "        print('New Balance is', new_balance)\n",
    "    else:\n",
    "        print('Check Your Transaction')\n"
   ]
  },
  {
   "cell_type": "code",
   "execution_count": 6,
   "id": "4a2c446e",
   "metadata": {},
   "outputs": [
    {
     "name": "stdout",
     "output_type": "stream",
     "text": [
      "New Balance is 6000.0\n"
     ]
    }
   ],
   "source": [
    "balance = 20000\n",
    "threshold = 6000\n",
    "withdraw = float(input('Enter the Amount to withdraw: '))\n",
    "\n",
    "if withdraw >= balance:\n",
    "    print('Insufficient Balance')\n",
    "else:\n",
    "    new_balance = balance - withdraw\n",
    "    if new_balance >= threshold:\n",
    "        print('New Balance is', new_balance)\n",
    "    else:\n",
    "        print('Check Your Transaction')"
   ]
  },
  {
   "cell_type": "code",
   "execution_count": 5,
   "id": "61eaeab2",
   "metadata": {},
   "outputs": [
    {
     "name": "stdout",
     "output_type": "stream",
     "text": [
      "0\n",
      "1\n",
      "2\n",
      "3\n",
      "4\n",
      "5\n",
      "6\n",
      "7\n",
      "8\n",
      "9\n"
     ]
    }
   ],
   "source": [
    "# For Loop\n",
    "for i in range(0,10):\n",
    "    print(i)\n"
   ]
  },
  {
   "cell_type": "code",
   "execution_count": 3,
   "id": "d6ad28f5",
   "metadata": {},
   "outputs": [
    {
     "name": "stdout",
     "output_type": "stream",
     "text": [
      "1 2 3 4 5 6 7 8 9 10 "
     ]
    }
   ],
   "source": [
    "for i in range(1,11):\n",
    "    print(i,end=\" \")"
   ]
  },
  {
   "cell_type": "code",
   "execution_count": 4,
   "id": "351a5ac8",
   "metadata": {},
   "outputs": [
    {
     "name": "stdout",
     "output_type": "stream",
     "text": [
      "*\n",
      "**\n",
      "***\n",
      "****\n",
      "*****\n"
     ]
    }
   ],
   "source": [
    "'''\n",
    "*\n",
    "**\n",
    "***\n",
    "****\n",
    "*****\n",
    "\n",
    "'''\n",
    "\n",
    "for i in range(1,6):\n",
    "    print('*'*i)"
   ]
  },
  {
   "cell_type": "code",
   "execution_count": 6,
   "id": "943c0773",
   "metadata": {},
   "outputs": [
    {
     "name": "stdout",
     "output_type": "stream",
     "text": [
      "*\n",
      "****\n",
      "*********\n",
      "****************\n",
      "*************************\n"
     ]
    }
   ],
   "source": [
    "for i in range(1,6):\n",
    "    print('*'*i*i)"
   ]
  },
  {
   "cell_type": "code",
   "execution_count": 4,
   "id": "202af491",
   "metadata": {},
   "outputs": [
    {
     "name": "stdout",
     "output_type": "stream",
     "text": [
      "*\n",
      "****\n",
      "*********\n",
      "****************\n",
      "*************************\n",
      "************************************\n",
      "*************************************************\n"
     ]
    }
   ],
   "source": [
    "for i in range(1,8):\n",
    "    print('*'*i*i)"
   ]
  },
  {
   "cell_type": "code",
   "execution_count": 3,
   "id": "20343ea2",
   "metadata": {},
   "outputs": [
    {
     "name": "stdout",
     "output_type": "stream",
     "text": [
      "*\n",
      "****\n",
      "*********\n",
      "****************\n",
      "*************************\n",
      "************************************\n",
      "*************************************************\n",
      "****************************************************************\n",
      "*********************************************************************************\n"
     ]
    }
   ],
   "source": [
    "for i in range(1,10):\n",
    "    print('*'*i*i)"
   ]
  },
  {
   "cell_type": "code",
   "execution_count": 7,
   "id": "4b6a039f",
   "metadata": {},
   "outputs": [
    {
     "name": "stdout",
     "output_type": "stream",
     "text": [
      "*\n",
      "****\n",
      "*********\n",
      "****************\n",
      "*************************\n",
      "************************************\n",
      "*************************************************\n",
      "****************************************************************\n",
      "*********************************************************************************\n",
      "****************************************************************************************************\n"
     ]
    }
   ],
   "source": [
    "for i in range(1,11):\n",
    "    print('*'*i*i)"
   ]
  },
  {
   "cell_type": "code",
   "execution_count": 9,
   "id": "d37fcfe1",
   "metadata": {},
   "outputs": [
    {
     "name": "stdout",
     "output_type": "stream",
     "text": [
      "*\n",
      "****\n",
      "*********\n",
      "****************\n",
      "*************************\n",
      "************************************\n",
      "*************************************************\n",
      "****************************************************************\n",
      "*********************************************************************************\n",
      "****************************************************************************************************\n",
      "*************************************************************************************************************************\n"
     ]
    }
   ],
   "source": [
    "for i in range(1,12):\n",
    "    print('*'*i*i)"
   ]
  },
  {
   "cell_type": "code",
   "execution_count": 10,
   "id": "dab709b3",
   "metadata": {},
   "outputs": [
    {
     "name": "stdout",
     "output_type": "stream",
     "text": [
      "*\n",
      "****\n",
      "*********\n",
      "****************\n",
      "*************************\n",
      "************************************\n",
      "*************************************************\n",
      "****************************************************************\n",
      "*********************************************************************************\n",
      "****************************************************************************************************\n",
      "*************************************************************************************************************************\n",
      "************************************************************************************************************************************************\n"
     ]
    }
   ],
   "source": [
    "for i in range(1,13):\n",
    "    print('*'*i*i)"
   ]
  },
  {
   "cell_type": "code",
   "execution_count": 2,
   "id": "4f680842",
   "metadata": {},
   "outputs": [
    {
     "name": "stdout",
     "output_type": "stream",
     "text": [
      "Please check the choice\n"
     ]
    }
   ],
   "source": [
    "num1 = float(input('Enter first num1:'))\n",
    "num2 = float(input(\"Enter second num2: \"))\n",
    "choice = input(\"Enter choice(+, -, *, /): \")\n",
    "\n",
    "if choice == '+':\n",
    "    num3= num1+num2\n",
    "    print(f'the Addition of {num1} and {num2}',num3)\n",
    "elif choice == '-':\n",
    "    num3= num1-num2\n",
    "    print(f'the Substraction of {num1} and {num2}',num3)\n",
    "else:\n",
    "    print('Please check the choice')"
   ]
  },
  {
   "cell_type": "code",
   "execution_count": 5,
   "id": "14a576df",
   "metadata": {},
   "outputs": [
    {
     "name": "stdout",
     "output_type": "stream",
     "text": [
      "[0]\n",
      "[0, 1]\n",
      "[0, 1, 4]\n",
      "[0, 1, 4, 9]\n",
      "[0, 1, 4, 9, 16]\n",
      "[0, 1, 4, 9, 16, 25]\n",
      "[0, 1, 4, 9, 16, 25, 36]\n",
      "[0, 1, 4, 9, 16, 25, 36, 49]\n",
      "[0, 1, 4, 9, 16, 25, 36, 49, 64]\n",
      "[0, 1, 4, 9, 16, 25, 36, 49, 64, 81]\n"
     ]
    }
   ],
   "source": [
    "# For Loop \n",
    "list = []\n",
    "for i in range (0,10):\n",
    "    list.append(i*i)\n",
    "    print(list)"
   ]
  },
  {
   "cell_type": "code",
   "execution_count": 9,
   "id": "28776c7b",
   "metadata": {},
   "outputs": [
    {
     "data": {
      "text/plain": [
       "[0, 1, 4, 9, 16, 25, 36, 49, 64, 81]"
      ]
     },
     "execution_count": 9,
     "metadata": {},
     "output_type": "execute_result"
    }
   ],
   "source": [
    "# List Comprehension\n",
    "# v\n",
    "Square = [i*i for i in range(0,10)]\n",
    "Square\n"
   ]
  },
  {
   "cell_type": "code",
   "execution_count": 7,
   "id": "dd59d1b8",
   "metadata": {},
   "outputs": [
    {
     "data": {
      "text/plain": [
       "[False, True, False, True, False, True, False, True, False, True]"
      ]
     },
     "execution_count": 7,
     "metadata": {},
     "output_type": "execute_result"
    }
   ],
   "source": [
    "odd = [i%2 == 1 for i in range(0,10)]\n",
    "odd"
   ]
  },
  {
   "cell_type": "code",
   "execution_count": 11,
   "id": "c71edeb7",
   "metadata": {},
   "outputs": [
    {
     "data": {
      "text/plain": [
       "[0, 1, 4, 9, 16, 25, 36, 49, 64, 81]"
      ]
     },
     "execution_count": 11,
     "metadata": {},
     "output_type": "execute_result"
    }
   ],
   "source": [
    "Square = [i**2 for i in range(0,10)]\n",
    "Square"
   ]
  },
  {
   "cell_type": "code",
   "execution_count": 13,
   "id": "c0bc2a62",
   "metadata": {},
   "outputs": [
    {
     "data": {
      "text/plain": [
       "['ANIKET', 'PARAGE', 'AJAY', 'MIHIR', 'NIKHIL', 'TANVI']"
      ]
     },
     "execution_count": 13,
     "metadata": {},
     "output_type": "execute_result"
    }
   ],
   "source": [
    "lst = ['Aniket','Parage','Ajay','Mihir','Nikhil','Tanvi']\n",
    "new_list = [lst.upper() for lst in lst]\n",
    "new_list"
   ]
  },
  {
   "cell_type": "code",
   "execution_count": 14,
   "id": "51b1e4d7",
   "metadata": {},
   "outputs": [
    {
     "data": {
      "text/plain": [
       "['aniket', 'parage', 'ajay', 'mihir', 'nikhil', 'tanvi']"
      ]
     },
     "execution_count": 14,
     "metadata": {},
     "output_type": "execute_result"
    }
   ],
   "source": [
    "new_list = [lst.lower() for lst in lst]\n",
    "new_list"
   ]
  },
  {
   "cell_type": "code",
   "execution_count": 15,
   "id": "1dbe090d",
   "metadata": {},
   "outputs": [
    {
     "data": {
      "text/plain": [
       "[6, 6, 4, 5, 6, 5]"
      ]
     },
     "execution_count": 15,
     "metadata": {},
     "output_type": "execute_result"
    }
   ],
   "source": [
    "new_list = [len(lst) for lst in lst]\n",
    "new_list"
   ]
  },
  {
   "cell_type": "code",
   "execution_count": 16,
   "id": "968bb912",
   "metadata": {},
   "outputs": [
    {
     "data": {
      "text/plain": [
       "32"
      ]
     },
     "execution_count": 16,
     "metadata": {},
     "output_type": "execute_result"
    }
   ],
   "source": [
    "new_list = sum([len(lst)for lst in lst])\n",
    "new_list"
   ]
  },
  {
   "cell_type": "code",
   "execution_count": 17,
   "id": "be2019d3",
   "metadata": {},
   "outputs": [
    {
     "data": {
      "text/plain": [
       "6"
      ]
     },
     "execution_count": 17,
     "metadata": {},
     "output_type": "execute_result"
    }
   ],
   "source": [
    "new_list = max([len(lst)for lst in lst])\n",
    "new_list"
   ]
  },
  {
   "cell_type": "code",
   "execution_count": 18,
   "id": "4dd52da0",
   "metadata": {},
   "outputs": [
    {
     "data": {
      "text/plain": [
       "4"
      ]
     },
     "execution_count": 18,
     "metadata": {},
     "output_type": "execute_result"
    }
   ],
   "source": [
    "new_list = min([len(lst)for lst in lst])\n",
    "new_list"
   ]
  },
  {
   "cell_type": "code",
   "execution_count": 27,
   "id": "b201f107",
   "metadata": {},
   "outputs": [
    {
     "data": {
      "text/plain": [
       "20"
      ]
     },
     "execution_count": 27,
     "metadata": {},
     "output_type": "execute_result"
    }
   ],
   "source": [
    "#Logic: 0 1 3 5 7 9: sum : 20\n",
    "n = sum([x for x in range(0,10) if x % 2 == 0])\n",
    "n "
   ]
  },
  {
   "cell_type": "code",
   "execution_count": null,
   "id": "1eb05b06",
   "metadata": {},
   "outputs": [
    {
     "data": {
      "text/plain": [
       "25"
      ]
     },
     "execution_count": 25,
     "metadata": {},
     "output_type": "execute_result"
    }
   ],
   "source": [
    "#Logic: 0 2 4 6 8: sum : 25\n",
    "n = sum([x for x in range(0,10) if x % 2 != 0])\n",
    "n "
   ]
  },
  {
   "cell_type": "code",
   "execution_count": 35,
   "id": "16539057",
   "metadata": {},
   "outputs": [
    {
     "data": {
      "text/plain": [
       "120"
      ]
     },
     "execution_count": 35,
     "metadata": {},
     "output_type": "execute_result"
    }
   ],
   "source": [
    "import math\n",
    "math.factorial(5)"
   ]
  },
  {
   "cell_type": "code",
   "execution_count": 39,
   "id": "2e1bdc66",
   "metadata": {},
   "outputs": [
    {
     "name": "stdout",
     "output_type": "stream",
     "text": [
      "2.23606797749979\n",
      "2.23606797749979\n"
     ]
    }
   ],
   "source": [
    "# Square root\n",
    "print (5**0.5)\n",
    "print(math.sqrt(5))"
   ]
  },
  {
   "cell_type": "code",
   "execution_count": 37,
   "id": "42f5cc7d",
   "metadata": {},
   "outputs": [
    {
     "data": {
      "text/plain": [
       "4.0"
      ]
     },
     "execution_count": 37,
     "metadata": {},
     "output_type": "execute_result"
    }
   ],
   "source": [
    "math.pow(2,2)"
   ]
  },
  {
   "cell_type": "code",
   "execution_count": 40,
   "id": "57136bb6",
   "metadata": {},
   "outputs": [
    {
     "name": "stdout",
     "output_type": "stream",
     "text": [
      "0.6989700043360189\n"
     ]
    }
   ],
   "source": [
    "print(math.log10(5))"
   ]
  },
  {
   "cell_type": "code",
   "execution_count": 2,
   "id": "fad66db5",
   "metadata": {},
   "outputs": [],
   "source": [
    "import math\n",
    "import os\n",
    "import datetime"
   ]
  },
  {
   "cell_type": "code",
   "execution_count": null,
   "id": "37b055c2",
   "metadata": {},
   "outputs": [
    {
     "name": "stdout",
     "output_type": "stream",
     "text": [
      "HELLO WORLD\n"
     ]
    }
   ],
   "source": [
    "# define function\n",
    "\n",
    "def sum(): # sum() function definition.\n",
    "    print('HELLO WORLD')\n",
    "\n",
    "ans = sum()  # sum() function calling and storing in variable ans.   "
   ]
  },
  {
   "cell_type": "code",
   "execution_count": 12,
   "id": "4090982e",
   "metadata": {},
   "outputs": [
    {
     "name": "stdout",
     "output_type": "stream",
     "text": [
      "The addition of two numbers 100 and 200 is 300\n"
     ]
    }
   ],
   "source": [
    "def sum(num1,num2):\n",
    "    num3 = num1 + num2\n",
    "    print(f'The addition of two numbers {num1} and {num2} is',num3)\n",
    "\n",
    "ans = sum(100,200)"
   ]
  },
  {
   "cell_type": "code",
   "execution_count": 23,
   "id": "f543b4cd",
   "metadata": {},
   "outputs": [
    {
     "name": "stdout",
     "output_type": "stream",
     "text": [
      "The addition of two number 10.0 and 20.0 is 30.0\n",
      "The multiplication of two numbers 10.0 and 20.0 is 200.0\n"
     ]
    }
   ],
   "source": [
    "num1 = float(input('Enter the first number:'))\n",
    "num2 = float(input('Enter the second number'))\n",
    "\n",
    "def sum(num1,num2):\n",
    "    num3 = num1 + num2\n",
    "    print(f'The addition of two number {num1} and {num2} is',num3)\n",
    "\n",
    "def mul(num1,num2):\n",
    "    num3 = num1 * num2\n",
    "    print(f'The multiplication of two numbers {num1} and {num2} is',num3)\n",
    "\n",
    "addition = sum(num1,num2)\n",
    "multiplication = mul(num1,num2)\n"
   ]
  },
  {
   "cell_type": "code",
   "execution_count": 24,
   "id": "ce911258",
   "metadata": {},
   "outputs": [
    {
     "name": "stdout",
     "output_type": "stream",
     "text": [
      "The addition of two number 10.0 and 20.0 is 30.0\n",
      "The multiplication of two numbers 10.0 and 20.0 is 200.0\n"
     ]
    }
   ],
   "source": [
    "num1 = float(input('Enter the first number:'))\n",
    "num2 = float(input('Enter the second number'))\n",
    "\n",
    "def sum(num1,num2):\n",
    "    num3 = num1 + num2\n",
    "    print(f'The addition of two number {num1} and {num2} is',num3)\n",
    "\n",
    "def mul(num1,num2):\n",
    "    num4 = num1 * num2\n",
    "    print(f'The multiplication of two numbers {num1} and {num2} is',num4)\n",
    "    return num4\n",
    "\n",
    "addition = sum(num1,num2)\n",
    "multiplication = mul(num1,num2)"
   ]
  },
  {
   "cell_type": "code",
   "execution_count": 25,
   "id": "08f42051",
   "metadata": {},
   "outputs": [
    {
     "data": {
      "text/plain": [
       "200.0"
      ]
     },
     "execution_count": 25,
     "metadata": {},
     "output_type": "execute_result"
    }
   ],
   "source": [
    "multiplication"
   ]
  },
  {
   "cell_type": "code",
   "execution_count": 28,
   "id": "7f4d32fb",
   "metadata": {},
   "outputs": [
    {
     "name": "stdout",
     "output_type": "stream",
     "text": [
      "'mom' is a palindrome\n"
     ]
    }
   ],
   "source": [
    "def check_palindrome(word):\n",
    "    word_cleaned = word.lower().replace(\" \", \"\")\n",
    "    reversed_word = word_cleaned[::-1]\n",
    "    \n",
    "    if word_cleaned == reversed_word:\n",
    "        print(f\"'{word}' is a palindrome\")\n",
    "    else:\n",
    "        print(f\"'{word}' is not a palindrome\")\n",
    "\n",
    "# taking input from user\n",
    "text = input(\"Enter a word or sentence: \")\n",
    "check_palindrome(text)\n"
   ]
  },
  {
   "cell_type": "code",
   "execution_count": 32,
   "id": "35b1557b",
   "metadata": {},
   "outputs": [
    {
     "name": "stdout",
     "output_type": "stream",
     "text": [
      "The given is string is a palindrome\n"
     ]
    }
   ],
   "source": [
    "'''  \n",
    "Palindrom :\n",
    "MOM = MOM\n",
    "'''\n",
    "\n",
    "text = input('Enter the string: ')\n",
    "text1 = text[::-1]\n",
    "\n",
    "def pal(text):\n",
    "    if text == text:\n",
    "        print(\"The given is string is a palindrome\")\n",
    "    else:\n",
    "        print(\"The given string is not a palindrome\")\n",
    "\n",
    "pal(text)\n"
   ]
  },
  {
   "cell_type": "code",
   "execution_count": null,
   "id": "99602011",
   "metadata": {},
   "outputs": [
    {
     "name": "stdout",
     "output_type": "stream",
     "text": [
      "User Current Balance is 4000.0\n"
     ]
    }
   ],
   "source": [
    "'''\n",
    "balance = 10000\n",
    "withdraw = Ask User\n",
    "Theshold balance = 2000\n",
    "\n",
    " create function def transation \n",
    "\n",
    "'''\n",
    "balance =10000\n",
    "threshold = 2000\n",
    "withdraw = float(input('Ask User: '))\n",
    "\n",
    "if withdraw >= balance:\n",
    "    print('Insufficient Balance')\n",
    "else:\n",
    "    new_balance = balance - withdraw\n",
    "    if new_balance >= threshold:\n",
    "        print('User Current Balance is', new_balance)\n",
    "    else:\n",
    "        print('def transation')"
   ]
  },
  {
   "cell_type": "code",
   "execution_count": null,
   "id": "8f38b4fa",
   "metadata": {},
   "outputs": [],
   "source": [
    "'''  \n",
    "CGPA >= 8 : Bright\n",
    "CGPA between 6.9 to 7.9: Moderate Student\n",
    "CGPA =< 6.8 : Weak Student \n",
    "'''\n",
    "CGPA >= 8\n",
    "CGPA\n",
    "\n",
    "if CGPA >= CGPA:\n",
    "    print() "
   ]
  },
  {
   "cell_type": "code",
   "execution_count": 4,
   "id": "6982275c",
   "metadata": {},
   "outputs": [
    {
     "name": "stdout",
     "output_type": "stream",
     "text": [
      "Bright Student\n"
     ]
    }
   ],
   "source": [
    "CGPA = float(input('Enter CGPA: '))\n",
    "\n",
    "def compute(CGPA):\n",
    "    if CGPA >= 8:\n",
    "        print(\"Bright Student\") \n",
    "    elif 6.9 <= CGPA <= 7.9:\n",
    "        print(\"Moderate Student\")\n",
    "    else:\n",
    "        print(\"Weak Student\")\n",
    "\n",
    "compute(CGPA)"
   ]
  },
  {
   "cell_type": "code",
   "execution_count": 1,
   "id": "b69e04ec",
   "metadata": {},
   "outputs": [
    {
     "name": "stdout",
     "output_type": "stream",
     "text": [
      "The given string is palindrom.\n"
     ]
    }
   ],
   "source": [
    "text = input('Enter the Text:')\n",
    "\n",
    "text = text[::-1]\n",
    "\n",
    "def palindrom(text):\n",
    "    text1 = text[::-1]\n",
    "    if text == text1:\n",
    "        print('The given string is palindrom.')\n",
    "    else:\n",
    "        print('The given string is not a palindrom')\n",
    "\n",
    "palindrom(text)  #calling a function\n",
    "                 # Palindrom = Reading the word from right or left and left to right.     "
   ]
  },
  {
   "cell_type": "code",
   "execution_count": 6,
   "id": "1472014e",
   "metadata": {},
   "outputs": [
    {
     "data": {
      "text/plain": [
       "120"
      ]
     },
     "execution_count": 6,
     "metadata": {},
     "output_type": "execute_result"
    }
   ],
   "source": [
    "# Recurssive Function\n",
    "# 5! = 5*4*3*2*1 = 120\n",
    "def factorial (n):\n",
    "    if n == 0 or n == 1:\n",
    "        return 1 # base case\n",
    "    else:\n",
    "        return n * factorial(n-1)\n",
    "factorial(5)    "
   ]
  },
  {
   "cell_type": "code",
   "execution_count": 1,
   "id": "5b82b184",
   "metadata": {},
   "outputs": [
    {
     "data": {
      "text/plain": [
       "list"
      ]
     },
     "execution_count": 1,
     "metadata": {},
     "output_type": "execute_result"
    }
   ],
   "source": [
    "lst = [1,2,3]\n",
    "type(lst)"
   ]
  },
  {
   "cell_type": "code",
   "execution_count": 4,
   "id": "eb27437c",
   "metadata": {},
   "outputs": [
    {
     "data": {
      "text/plain": [
       "<function list.append(object, /)>"
      ]
     },
     "execution_count": 4,
     "metadata": {},
     "output_type": "execute_result"
    }
   ],
   "source": [
    "lst.append"
   ]
  },
  {
   "cell_type": "code",
   "execution_count": 5,
   "id": "0159ee51",
   "metadata": {},
   "outputs": [
    {
     "data": {
      "text/plain": [
       "12345"
      ]
     },
     "execution_count": 5,
     "metadata": {},
     "output_type": "execute_result"
    }
   ],
   "source": [
    "# OOP: Object Oriented Programming\n",
    "\n",
    "class ClassName:\n",
    "    i = 12345\n",
    "\n",
    "x = ClassName()\n",
    "x.i    "
   ]
  },
  {
   "cell_type": "code",
   "execution_count": 7,
   "id": "60e9a662",
   "metadata": {},
   "outputs": [
    {
     "name": "stdout",
     "output_type": "stream",
     "text": [
      "10 + 10 j\n"
     ]
    }
   ],
   "source": [
    "class complex:# ClassName: Complex\n",
    "    def __init__(self,real,img):  # Constructor Method\n",
    "        self.r = real             # Attribute\n",
    "        self.i = img              # Attribute\n",
    "\n",
    "x = complex(10,10) # x is an object of class complex\n",
    "x.r # calling Attribute using Dot Operator with the help of object x\n",
    "x.i # calling Attribute using Dot Operator with the help of object x\n",
    "print(x.r,'+',x.i,'j')"
   ]
  },
  {
   "cell_type": "code",
   "execution_count": null,
   "id": "275f1022",
   "metadata": {},
   "outputs": [
    {
     "data": {
      "text/plain": [
       "300"
      ]
     },
     "execution_count": 12,
     "metadata": {},
     "output_type": "execute_result"
    }
   ],
   "source": [
    "class addition:\n",
    "    def __init__(self):\n",
    "        self.num1 = 100\n",
    "        self.num2 = 200\n",
    "    def sum(self):\n",
    "        num3 = self.num1 + self.num2\n",
    "        return num3\n",
    "\n",
    "a = addition()\n",
    "a.sum()"
   ]
  },
  {
   "cell_type": "code",
   "execution_count": 18,
   "id": "9919b5ca",
   "metadata": {},
   "outputs": [
    {
     "name": "stdout",
     "output_type": "stream",
     "text": [
      "New Balance is 4000.0\n"
     ]
    }
   ],
   "source": [
    "class Bank:\n",
    "    def __init__(self):\n",
    "        self.balance = 10000\n",
    "        self.threshold = 2000\n",
    "\n",
    "    def trans(self):\n",
    "        withdraw_amount = float(input('Enter the withdraw amount: '))\n",
    "        if withdraw_amount > self.balance:\n",
    "            print('Insufficient Balance')\n",
    "        else:\n",
    "            new_balance = self.balance - withdraw_amount\n",
    "            if new_balance >= self.threshold:\n",
    "                print('New Balance is', new_balance)\n",
    "            else:\n",
    "                print('Check Your Transaction, Once Again')\n",
    "\n",
    "T = Bank()\n",
    "T.trans()"
   ]
  }
 ],
 "metadata": {
  "kernelspec": {
   "display_name": "base",
   "language": "python",
   "name": "python3"
  },
  "language_info": {
   "codemirror_mode": {
    "name": "ipython",
    "version": 3
   },
   "file_extension": ".py",
   "mimetype": "text/x-python",
   "name": "python",
   "nbconvert_exporter": "python",
   "pygments_lexer": "ipython3",
   "version": "3.12.7"
  }
 },
 "nbformat": 4,
 "nbformat_minor": 5
}
