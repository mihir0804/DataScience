{
 "cells": [
  {
   "cell_type": "code",
   "execution_count": 28,
   "id": "71eb5a3a",
   "metadata": {},
   "outputs": [
    {
     "name": "stdout",
     "output_type": "stream",
     "text": [
      "<class 'tuple'>\n"
     ]
    },
    {
     "data": {
      "text/plain": [
       "1"
      ]
     },
     "execution_count": 28,
     "metadata": {},
     "output_type": "execute_result"
    }
   ],
   "source": [
    "# Tuple Defination\n",
    "\n",
    "tup = (10,20,30)\n",
    "print(type(tup))\n",
    "tup.count(10)"
   ]
  },
  {
   "cell_type": "code",
   "execution_count": 29,
   "id": "588ac91c",
   "metadata": {},
   "outputs": [
    {
     "data": {
      "text/plain": [
       "0"
      ]
     },
     "execution_count": 29,
     "metadata": {},
     "output_type": "execute_result"
    }
   ],
   "source": [
    "tup.index(10)"
   ]
  },
  {
   "cell_type": "code",
   "execution_count": 30,
   "id": "ad26b585",
   "metadata": {},
   "outputs": [],
   "source": [
    "# tuple indexing and slicing\n",
    "\n",
    "tup = (10,20,30,[40,50,(30,40,(60,70,80))])"
   ]
  },
  {
   "cell_type": "code",
   "execution_count": 31,
   "id": "450656cd",
   "metadata": {},
   "outputs": [
    {
     "name": "stdout",
     "output_type": "stream",
     "text": [
      "70 80\n"
     ]
    }
   ],
   "source": [
    "# Example :\n",
    "# o/p: 70,80\n",
    "print(*tup[3][2][2][1:])"
   ]
  },
  {
   "cell_type": "code",
   "execution_count": 32,
   "id": "f4d63fe1",
   "metadata": {},
   "outputs": [
    {
     "name": "stdout",
     "output_type": "stream",
     "text": [
      "The value is 10\n"
     ]
    }
   ],
   "source": [
    "# Cnditional Statement\n",
    "''' \n",
    "if condition==True\n",
    "   Perform inside the loop\n",
    "else:\n",
    "   perform this operation \n",
    "\n",
    "Note : = : Assingnment Operator\n",
    "      == : Comparison Operation\n",
    "'''\n",
    "\n",
    "num = 10\n",
    "\n",
    "if num == 10:\n",
    "      print('The value is 10')\n",
    "else:\n",
    "      print('The Value is other than 10')\n",
    "      \n",
    "      "
   ]
  },
  {
   "cell_type": "code",
   "execution_count": null,
   "id": "12f140a6",
   "metadata": {},
   "outputs": [],
   "source": [
    "# check the given string is Palindrom or not\n",
    "\n",
    "text = 'dad'\n",
    "text = text [::-1]\n",
    "\n",
    "if text == text1:\n",
    "    print('The give string is palindrom')\n",
    "else:\n",
    "    print('The given string is Not a Palindrom')"
   ]
  },
  {
   "cell_type": "code",
   "execution_count": null,
   "id": "48c409f1",
   "metadata": {},
   "outputs": [],
   "source": [
    "'''\n",
    "if conditon:\n",
    "  statment\n",
    "  elif condition:\n",
    "    stateemnt\n",
    "else:\n",
    "  Statement    \n",
    "'''"
   ]
  },
  {
   "cell_type": "code",
   "execution_count": null,
   "id": "ec594e9b",
   "metadata": {},
   "outputs": [
    {
     "name": "stdout",
     "output_type": "stream",
     "text": [
      "Average Student\n"
     ]
    }
   ],
   "source": [
    "''' \n",
    "mark > 80 : Best Student\n",
    "mark between 60 to 79 : Good Student\n",
    "Mark between 50 to 59 : average Student\n",
    "Mark< 49 : Poor student\n",
    "'''\n",
    "marks = float(input('Enter marks of the Student'))\n",
    "\n",
    "if marks >= 80:\n",
    "\n",
    "  print('Best Student')\n",
    "elif marks < 80 and marks >60:\n",
    "  print('Good Student')\n",
    "elif marks <60 and marks >50:\n",
    "     print('Average Student')\n",
    "else:\n",
    "   print('poor Student')                     \n",
    "\n",
    "\n",
    "\n"
   ]
  },
  {
   "cell_type": "code",
   "execution_count": 1,
   "id": "2db6b3c8",
   "metadata": {},
   "outputs": [
    {
     "name": "stdout",
     "output_type": "stream",
     "text": [
      "New Balance is 4000.0\n"
     ]
    }
   ],
   "source": [
    "balance = 10000\n",
    "threshold = 2000\n",
    "withdraw = float(input('Enter the Amount to withdraw: '))\n",
    "\n",
    "if withdraw >= balance:\n",
    "    print('Insufficient Balance')\n",
    "else:\n",
    "    new_balance = balance - withdraw\n",
    "    if new_balance >= threshold:\n",
    "        print('New Balance is', new_balance)\n",
    "    else:\n",
    "        print('Check Your Transaction')\n"
   ]
  },
  {
   "cell_type": "code",
   "execution_count": 5,
   "id": "61eaeab2",
   "metadata": {},
   "outputs": [
    {
     "name": "stdout",
     "output_type": "stream",
     "text": [
      "0\n",
      "1\n",
      "2\n",
      "3\n",
      "4\n",
      "5\n",
      "6\n",
      "7\n",
      "8\n",
      "9\n"
     ]
    }
   ],
   "source": [
    "# For Loop\n",
    "for i in range(0,10):\n",
    "    print(i)\n"
   ]
  },
  {
   "cell_type": "code",
   "execution_count": 3,
   "id": "d6ad28f5",
   "metadata": {},
   "outputs": [
    {
     "name": "stdout",
     "output_type": "stream",
     "text": [
      "1 2 3 4 5 6 7 8 9 10 "
     ]
    }
   ],
   "source": [
    "for i in range(1,11):\n",
    "    print(i,end=\" \")"
   ]
  },
  {
   "cell_type": "code",
   "execution_count": 4,
   "id": "351a5ac8",
   "metadata": {},
   "outputs": [
    {
     "name": "stdout",
     "output_type": "stream",
     "text": [
      "*\n",
      "**\n",
      "***\n",
      "****\n",
      "*****\n"
     ]
    }
   ],
   "source": [
    "'''\n",
    "*\n",
    "**\n",
    "***\n",
    "****\n",
    "*****\n",
    "\n",
    "'''\n",
    "\n",
    "for i in range(1,6):\n",
    "    print('*'*i)"
   ]
  },
  {
   "cell_type": "code",
   "execution_count": 6,
   "id": "943c0773",
   "metadata": {},
   "outputs": [
    {
     "name": "stdout",
     "output_type": "stream",
     "text": [
      "*\n",
      "****\n",
      "*********\n",
      "****************\n",
      "*************************\n"
     ]
    }
   ],
   "source": [
    "for i in range(1,6):\n",
    "    print('*'*i*i)"
   ]
  }
 ],
 "metadata": {
  "kernelspec": {
   "display_name": "base",
   "language": "python",
   "name": "python3"
  },
  "language_info": {
   "codemirror_mode": {
    "name": "ipython",
    "version": 3
   },
   "file_extension": ".py",
   "mimetype": "text/x-python",
   "name": "python",
   "nbconvert_exporter": "python",
   "pygments_lexer": "ipython3",
   "version": "3.12.7"
  }
 },
 "nbformat": 4,
 "nbformat_minor": 5
}
