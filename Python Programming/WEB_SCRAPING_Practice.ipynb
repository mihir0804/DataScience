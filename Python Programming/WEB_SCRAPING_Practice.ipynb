{
 "cells": [
  {
   "cell_type": "code",
   "execution_count": 17,
   "id": "1a923f89",
   "metadata": {},
   "outputs": [
    {
     "name": "stdout",
     "output_type": "stream",
     "text": [
      "                                            headline                  source  \\\n",
      "0  LIVE: आरसीबी की धमाकेदार शुरुआत, कोहली कर रहे ...  https://www.aajtak.in/   \n",
      "1  Lucknow Super Giants (LSG) vs Royal Challenger...  https://www.aajtak.in/   \n",
      "2  20 करोड़ कर्ज, 5 साल से अंडरग्राउंड... कार में...  https://www.aajtak.in/   \n",
      "3  ऑनस्क्रीन Kiss करने में छूटे थे एक्टर के पसीने...  https://www.aajtak.in/   \n",
      "4  भारत-पाक युद्ध के बीच शादी टालने का मन बना चुक...  https://www.aajtak.in/   \n",
      "\n",
      "                scraped_time  \n",
      "0 2025-05-27 22:23:41.095379  \n",
      "1 2025-05-27 22:23:41.095379  \n",
      "2 2025-05-27 22:23:41.095379  \n",
      "3 2025-05-27 22:23:41.095379  \n",
      "4 2025-05-27 22:23:41.095379  \n"
     ]
    }
   ],
   "source": [
    "from selenium import webdriver\n",
    "from bs4 import BeautifulSoup\n",
    "import pandas as pd\n",
    "from datetime import datetime\n",
    "import time\n",
    "\n",
    "# Set up Selenium WebDriver (using Chrome)\n",
    "options = webdriver.ChromeOptions()\n",
    "options.add_argument('--headless')  # Run in headless mode\n",
    "driver = webdriver.Chrome(options=options)\n",
    "\n",
    "# Load the webpage\n",
    "url = \"https://www.aajtak.in/\"\n",
    "driver.get(url)\n",
    "\n",
    "# Wait to ensure JS has loaded\n",
    "time.sleep(5)\n",
    "\n",
    "# Get page source and parse with BeautifulSoup\n",
    "soup = BeautifulSoup(driver.page_source, 'html.parser')\n",
    "\n",
    "# Close the driver\n",
    "driver.quit()\n",
    "\n",
    "# Find headline tags (you may need to inspect the site's structure for accuracy)\n",
    "headlines_html = soup.find_all('h3')\n",
    "\n",
    "# Extract and clean text\n",
    "headlines = [h.get_text(strip=True) for h in headlines_html if h.get_text(strip=True)]\n",
    "\n",
    "# Create DataFrame\n",
    "df = pd.DataFrame({\n",
    "    'headline': headlines,\n",
    "    'source': url,\n",
    "    'scraped_time': datetime.now()\n",
    "})\n",
    "\n",
    "# Show the first few headlines\n",
    "print(df.head())\n"
   ]
  },
  {
   "cell_type": "markdown",
   "id": "1f83ae43",
   "metadata": {},
   "source": [
    "### **Practiced the Modified Code**"
   ]
  },
  {
   "cell_type": "code",
   "execution_count": 16,
   "id": "dc892e6f",
   "metadata": {},
   "outputs": [
    {
     "name": "stdout",
     "output_type": "stream",
     "text": [
      "                                            headline                  source  \\\n",
      "0  LIVE: आरसीबी की धमाकेदार शुरुआत, कोहली कर रहे ...  https://www.aajtak.in/   \n",
      "1  Lucknow Super Giants (LSG) vs Royal Challenger...  https://www.aajtak.in/   \n",
      "2  20 करोड़ कर्ज, 5 साल से अंडरग्राउंड... कार में...  https://www.aajtak.in/   \n",
      "3  गाजा में इजरायली हमले में मरने वालों की संख्या...  https://www.aajtak.in/   \n",
      "4  ऑनस्क्रीन Kiss करने में छूटे थे एक्टर के पसीने...  https://www.aajtak.in/   \n",
      "\n",
      "                scraped_time  \n",
      "0 2025-05-27 22:22:44.595874  \n",
      "1 2025-05-27 22:22:44.595874  \n",
      "2 2025-05-27 22:22:44.595874  \n",
      "3 2025-05-27 22:22:44.595874  \n",
      "4 2025-05-27 22:22:44.595874  \n"
     ]
    }
   ],
   "source": [
    "from selenium import webdriver\n",
    "from bs4 import BeautifulSoup\n",
    "import pandas as pd\n",
    "from datetime import datetime\n",
    "import time\n",
    "\n",
    "def scrape_headlines(url):\n",
    "    options = webdriver.ChromeOptions()\n",
    "    options.add_argument('--headless')\n",
    "    driver = webdriver.Chrome(options=options)\n",
    "    driver.get(url)\n",
    "    time.sleep(5)\n",
    "    soup = BeautifulSoup(driver.page_source, 'html.parser')\n",
    "    driver.quit()\n",
    "    headlines_html = soup.find_all('h3')\n",
    "    headlines = [h.get_text(strip=True) for h in headlines_html if h.get_text(strip=True)]\n",
    "    df = pd.DataFrame({\n",
    "        'headline': headlines,\n",
    "        'source': url,\n",
    "        'scraped_time': datetime.now()\n",
    "    })\n",
    "    return df\n",
    "\n",
    "url = \"https://www.aajtak.in/\"\n",
    "print(scrape_headlines(url).head())"
   ]
  },
  {
   "cell_type": "markdown",
   "id": "f88dc94a",
   "metadata": {},
   "source": [
    " ### **USED NEW LINK of \"TIME_NOW\"**"
   ]
  },
  {
   "cell_type": "code",
   "execution_count": 20,
   "id": "e877f138",
   "metadata": {},
   "outputs": [
    {
     "name": "stdout",
     "output_type": "stream",
     "text": [
      "                                            headline  \\\n",
      "0  Trump Targets Harvard, Again: $100 Million in ...   \n",
      "1  Ravi Mohan Sues Estranged Wife Aarti, Mother-I...   \n",
      "2                  LSG vs RCB Live Score And Updates   \n",
      "3  India to Develop 5th-Gen Jet: Why AMCA Is Idea...   \n",
      "4  JAC 10th 2025 Result Live: Jharkhand Class 10 ...   \n",
      "\n",
      "                          source               scraped_time  \n",
      "0  https://www.timesnownews.com/ 2025-05-27 22:35:39.954440  \n",
      "1  https://www.timesnownews.com/ 2025-05-27 22:35:39.954440  \n",
      "2  https://www.timesnownews.com/ 2025-05-27 22:35:39.954440  \n",
      "3  https://www.timesnownews.com/ 2025-05-27 22:35:39.954440  \n",
      "4  https://www.timesnownews.com/ 2025-05-27 22:35:39.954440  \n"
     ]
    }
   ],
   "source": [
    "from selenium import webdriver\n",
    "from bs4 import BeautifulSoup\n",
    "import pandas as pd\n",
    "from datetime import datetime\n",
    "from selenium.webdriver.common.by import By\n",
    "from selenium.webdriver.support.ui import WebDriverWait\n",
    "from selenium.webdriver.support import expected_conditions as EC\n",
    "\n",
    "def scrape_headlines(url):\n",
    "    options = webdriver.ChromeOptions()\n",
    "    options.add_argument('--headless')\n",
    "    options.add_argument('user-agent=Mozilla/5.0 (Windows NT 10.0; Win64; x64) Chrome/91.0.4472.124')\n",
    "    driver = webdriver.Chrome(options=options)\n",
    "    driver.set_page_load_timeout(300)\n",
    "    try:\n",
    "        driver.get(url)\n",
    "        WebDriverWait(driver, 30).until(EC.presence_of_element_located((By.TAG_NAME, \"h3\")))\n",
    "        soup = BeautifulSoup(driver.page_source, 'html.parser')\n",
    "        driver.quit()\n",
    "        headlines_html = soup.find_all('h3')\n",
    "        headlines = [h.get_text(strip=True) for h in headlines_html if h.get_text(strip=True)]\n",
    "        df = pd.DataFrame({\n",
    "            'headline': headlines,\n",
    "            'source': url,\n",
    "            'scraped_time': datetime.now()\n",
    "        })\n",
    "        return df\n",
    "    except TimeoutError:\n",
    "        print(\"Page load timed out\")\n",
    "        driver.quit()\n",
    "        return pd.DataFrame()\n",
    "\n",
    "url = \"https://www.timesnownews.com/\"\n",
    "print(scrape_headlines(url).head())"
   ]
  }
 ],
 "metadata": {
  "kernelspec": {
   "display_name": "base",
   "language": "python",
   "name": "python3"
  },
  "language_info": {
   "codemirror_mode": {
    "name": "ipython",
    "version": 3
   },
   "file_extension": ".py",
   "mimetype": "text/x-python",
   "name": "python",
   "nbconvert_exporter": "python",
   "pygments_lexer": "ipython3",
   "version": "3.12.7"
  }
 },
 "nbformat": 4,
 "nbformat_minor": 5
}
