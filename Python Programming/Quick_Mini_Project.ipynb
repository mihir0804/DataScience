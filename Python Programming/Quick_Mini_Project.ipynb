{
 "cells": [
  {
   "cell_type": "code",
   "execution_count": 24,
   "id": "31ef3078",
   "metadata": {},
   "outputs": [],
   "source": [
    "# Defining parent class: Bank_Account\n",
    "class Bank_Account:\n",
    "    # Defining special method: Constructor function\n",
    "    def __init__(self):\n",
    "        # Defining attributes inside constructor function\n",
    "        self.first_name = input('Enter the first_name') \n",
    "        self.last_name = input('Enter the last_name')\n",
    "        self.age = int(input('Enter the age'))\n",
    "        self.sex = input('Enter the sex')\n",
    "        self.mobile_number = int(input('mobile_number'))\n",
    "    # Defining method: details\n",
    "    def details(self):\n",
    "        print(f'The first name is {self.first_name}')\n",
    "        print(f'The last name is {self.last_name}')\n",
    "        print(f'The age is {self.age}')\n",
    "        print(f'The sex is {self.sex} ')\n",
    "        print(f'The mobile number is {self.mobile_number}')\n",
    "\n",
    "# Defining Child Class: Saving_Acc \n",
    "class Saving_Acc(Bank_Account):\n",
    "    # Defing method: intrest rate\n",
    "    def intrest_rate(self):\n",
    "        return 3\n",
    "    \n",
    "# Defining Child Class:Current_Acc  \n",
    "class Current_Acc(Bank_Account):\n",
    "    # Defing method: intrest rate\n",
    "    def intrest_rate(self):\n",
    "        return 0\n",
    "    \n",
    "# Defining Child Class:Pensioner_acc\n",
    "class Pensioner_acc(Bank_Account):\n",
    "    # Defing method: intrest rate\n",
    "    def intrest_rate(self):\n",
    "        return 6\n",
    "    \n",
    "# Defining Child Class:NRI_Acc  \n",
    "class NRI_Acc(Bank_Account):\n",
    "    # Defing method: intrest rate\n",
    "    def intrest_rate(self):\n",
    "        return 5 \n",
    "    \n",
    "# Defining Object\n",
    "Mihir = Saving_Acc()\n",
    "Disha = Current_Acc()\n",
    "Ajay = Pensioner_acc()\n",
    "Nikhil = NRI_Acc()\n",
    "Aniket = Saving_Acc()\n",
    "Parag = Current_Acc()\n",
    "Tosif = Pensioner_acc()\n",
    "Hemangi = NRI_Acc() "
   ]
  },
  {
   "cell_type": "code",
   "execution_count": 23,
   "id": "8fcfb613",
   "metadata": {},
   "outputs": [
    {
     "data": {
      "text/plain": [
       "3"
      ]
     },
     "execution_count": 23,
     "metadata": {},
     "output_type": "execute_result"
    }
   ],
   "source": [
    "Mihir.intrest_rate()"
   ]
  },
  {
   "cell_type": "code",
   "execution_count": 25,
   "id": "d43ba314",
   "metadata": {},
   "outputs": [
    {
     "name": "stdout",
     "output_type": "stream",
     "text": [
      "The first name is DISHA\n",
      "The last name is XYZ\n",
      "The age is 32\n",
      "The sex is FEMALE \n",
      "The mobile number is 6532987414\n"
     ]
    }
   ],
   "source": [
    "Hemangi.details()"
   ]
  },
  {
   "cell_type": "code",
   "execution_count": 26,
   "id": "57f7da32",
   "metadata": {},
   "outputs": [
    {
     "name": "stdout",
     "output_type": "stream",
     "text": [
      "The first name is AJAY\n",
      "The last name is XYZ\n",
      "The age is 32\n",
      "The sex is MALE \n",
      "The mobile number is 36698521479\n"
     ]
    }
   ],
   "source": [
    "Tosif.details()"
   ]
  },
  {
   "cell_type": "code",
   "execution_count": 27,
   "id": "57dd3ed8",
   "metadata": {},
   "outputs": [],
   "source": [
    "# Defining parent class:Transactions\n",
    "class Transaction:\n",
    "    # Defining special method: Constructor function\n",
    "    def __init__(self):\n",
    "        # Defining attributes inside constructor function  \n",
    "        self.Amount_debited = float(input('Enter the amount_debited'))\n",
    "        self.Amount_credited = float(input('Enter the amount credited'))\n",
    "        self.Amount_balance = 10000\n",
    "        self.Account_no = int(input('Enter the account no.'))\n",
    "\n",
    "    # Defining method: Acc_details\n",
    "    def Acc_details(self):\n",
    "        print(f'Enter the Account No: {self.Account_no}')\n",
    "        print(f'Balance Amount {self.Amount_balance}')\n",
    "        print(f'Enter the Debited Amount {self.Amount_debited}')\n",
    "        print(f'Enter the Credied Amount {self.Amount_credited}')\n",
    "\n",
    "# Defining Child Class:UPI\n",
    "class UPI(Transaction):\n",
    "    def Balance (self):\n",
    "        if self.Amount_debited < self.Amount_balance:\n",
    "            new_balance = self.Amount_credited + self.Amount_balance - self.Amount_debited     \n",
    "            print(f\"Account no {self.Account_no} having debited amount {self.Amount_debited}, amount credited {self.Amount_credited} So new balance = {new_balance}\")\n",
    "        else:\n",
    "            print(\"Insufficient Balance\")\n",
    "        \n",
    "# Defining Child Class:Googlepay\n",
    "class Googlepay(Transaction):\n",
    "    def Balance (self):\n",
    "        if self.Amount_debited < self.Amount_balance:\n",
    "            new_balance = self.Amount_credited + self.Amount_balance - self.Amount_debited     \n",
    "            print(f\"Account no {self.Account_no} having debited amount {self.Amount_debited}, amount credited {self.Amount_credited} So new balance = {new_balance}\")\n",
    "        else:\n",
    "            print(\"Insufficient Balance\")\n",
    "    \n",
    "# Defining Child Class:Amazonpay\n",
    "class Amazonepay(Transaction):\n",
    "    def Balance (self):\n",
    "        if self.Amount_debited < self.Amount_balance:\n",
    "            new_balance = self.Amount_credited + self.Amount_balance - self.Amount_debited     \n",
    "            print(f\"Account no {self.Account_no} having debited amount {self.Amount_debited}, amount credited {self.Amount_credited} So new balance = {new_balance}\")\n",
    "        else:\n",
    "            print(\"Insufficient Balance\")\n",
    "\n",
    "# Defining Child Class:Phonepay\n",
    "class phonepay(Transaction):\n",
    "    def Balance (self):\n",
    "        if self.Amount_debited < self.Amount_balance:\n",
    "            new_balance = self.Amount_credited + self.Amount_balance - self.Amount_debited     \n",
    "            print(f\"Account no {self.Account_no} having debited amount {self.Amount_debited}, amount credited {self.Amount_credited} So new balance = {new_balance}\")\n",
    "        else:\n",
    "            print(\"Insufficient Balance\")\n",
    "\n",
    "# Defining Obiject\n",
    "A = UPI()\n",
    "B = Googlepay()\n",
    "C = Amazonepay()\n",
    "D = phonepay()        \n"
   ]
  },
  {
   "cell_type": "code",
   "execution_count": 28,
   "id": "a935a0c4",
   "metadata": {},
   "outputs": [
    {
     "name": "stdout",
     "output_type": "stream",
     "text": [
      "Account no 123 having debited amount 30.0, amount credited 32.0 So new balance = 10002.0\n",
      "Account no 756 having debited amount 30.0, amount credited 36.0 So new balance = 10006.0\n",
      "Account no 321 having debited amount 85.0, amount credited 40.0 So new balance = 9955.0\n",
      "Account no 786 having debited amount 356.0, amount credited 32.0 So new balance = 9676.0\n"
     ]
    }
   ],
   "source": [
    "A.Balance()\n",
    "B.Balance()\n",
    "C.Balance()\n",
    "D.Balance()"
   ]
  }
 ],
 "metadata": {
  "kernelspec": {
   "display_name": "base",
   "language": "python",
   "name": "python3"
  },
  "language_info": {
   "codemirror_mode": {
    "name": "ipython",
    "version": 3
   },
   "file_extension": ".py",
   "mimetype": "text/x-python",
   "name": "python",
   "nbconvert_exporter": "python",
   "pygments_lexer": "ipython3",
   "version": "3.12.7"
  }
 },
 "nbformat": 4,
 "nbformat_minor": 5
}
