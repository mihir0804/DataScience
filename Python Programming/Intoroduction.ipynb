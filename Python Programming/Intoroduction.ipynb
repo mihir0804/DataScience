{
 "cells": [
  {
   "cell_type": "markdown",
   "id": "9324004c",
   "metadata": {},
   "source": [
    "### Introduction to Python Programming\n"
   ]
  },
  {
   "cell_type": "code",
   "execution_count": null,
   "id": "468a2769",
   "metadata": {},
   "outputs": [
    {
     "name": "stdout",
     "output_type": "stream",
     "text": [
      "<class 'int'>\n",
      "<class 'float'>\n",
      "<class 'str'>\n"
     ]
    }
   ],
   "source": [
    "# Variable Defination\n",
    "number = 1000  # Defining Integer Variable\n",
    "decimal=1000.890   # Defining Float Variable : Decimal Values\n",
    "string='Hello World' #Defination String: \"Text Information\"\n",
    "\n",
    "'''\n",
    "\n",
    "Data  types in Python are as follows:\n",
    "1. Integer\n",
    "2. Float\n",
    "3. String \n",
    "\n",
    "'''\n",
    "# Checking Datatype of Variables\n",
    "print(type (number))\n",
    "print(type(decimal))\n",
    "print(type(string))\n",
    "\n"
   ]
  }
 ],
 "metadata": {
  "kernelspec": {
   "display_name": "base",
   "language": "python",
   "name": "python3"
  },
  "language_info": {
   "codemirror_mode": {
    "name": "ipython",
    "version": 3
   },
   "file_extension": ".py",
   "mimetype": "text/x-python",
   "name": "python",
   "nbconvert_exporter": "python",
   "pygments_lexer": "ipython3",
   "version": "3.12.7"
  }
 },
 "nbformat": 4,
 "nbformat_minor": 5
}
