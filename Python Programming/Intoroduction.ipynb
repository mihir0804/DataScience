{
 "cells": [
  {
   "cell_type": "markdown",
   "id": "9324004c",
   "metadata": {},
   "source": [
    "### Introduction to Python Programming\n",
    "\n"
   ]
  },
  {
   "cell_type": "code",
   "execution_count": 8,
   "id": "468a2769",
   "metadata": {},
   "outputs": [
    {
     "name": "stdout",
     "output_type": "stream",
     "text": [
      "<class 'int'>\n",
      "<class 'float'>\n",
      "<class 'str'>\n"
     ]
    }
   ],
   "source": [
    "# Variable Defination\n",
    "number = 1000  # Defining Integer Variable\n",
    "decimal=1000.890   # Defining Float Variable : Decimal Values\n",
    "string='Hello World' #Defination String: \"Text Information\"\n",
    "\n",
    "'''\n",
    "\n",
    "Data  types in Python are as follows:\n",
    "1. Integer\n",
    "2. Float\n",
    "3. String \n",
    "\n",
    "'''\n",
    "# Checking Datatype of Variables\n",
    "print(type (number))\n",
    "print(type(decimal))\n",
    "print(type(string))\n",
    "\n"
   ]
  },
  {
   "cell_type": "code",
   "execution_count": 9,
   "id": "1c8ddf6c-6afe-4d08-99c4-1ed9bdba19fb",
   "metadata": {},
   "outputs": [
    {
     "name": "stdout",
     "output_type": "stream",
     "text": [
      "100\n"
     ]
    }
   ],
   "source": [
    "#Type casting of data type\n",
    "num = 100.2908383 # Datatype : Float\n",
    "\n",
    "print(int(num)) # float is typecasted to int\n"
   ]
  },
  {
   "cell_type": "code",
   "execution_count": 10,
   "id": "5a7a116a-399d-4d8b-9ba9-c34e29bc9b59",
   "metadata": {},
   "outputs": [
    {
     "name": "stdout",
     "output_type": "stream",
     "text": [
      "<class 'str'>\n",
      "10\n",
      "10.0\n"
     ]
    }
   ],
   "source": [
    "# Using input()\n",
    "num = input ('Enter the value:')\n",
    "'''\n",
    "Whenever we use input function, the out of input function is always string\n",
    "'''\n",
    "print(type(num))\n",
    "\n",
    "print(int(num)) \n",
    "print(float(num))\n",
    "\n",
    "      "
   ]
  },
  {
   "cell_type": "code",
   "execution_count": null,
   "id": "3f5c65a9-74fb-4799-9346-c82a7096fa5e",
   "metadata": {},
   "outputs": [],
   "source": [
    "# ask the user to enter the the string using input function \n",
    "str = input ('Enter the name of the person: ')\n",
    "print(type(str))\n",
    "print(str)"
   ]
  },
  {
   "cell_type": "code",
   "execution_count": null,
   "id": "2968b77b",
   "metadata": {},
   "outputs": [
    {
     "name": "stdout",
     "output_type": "stream",
     "text": [
      "The addition of two numbers as 10.0 and 20.0 is 30.0\n"
     ]
    }
   ],
   "source": [
    " # Perform mathmatical Operations\n",
    "\n",
    "num1 = float(input('Enter the first Number:'))\n",
    "num2 = float(input('Enter  the first Number:'))\n",
    "\n",
    "num3 = num1 + num2\n",
    "\n",
    "# using fstring method\n",
    "\n",
    "print (f'The addition of two numbers as {num1} and {num2} is', num3)\n"
   ]
  },
  {
   "cell_type": "code",
   "execution_count": null,
   "id": "b7778d06",
   "metadata": {},
   "outputs": [
    {
     "name": "stdout",
     "output_type": "stream",
     "text": [
      "L\n",
      "R\n"
     ]
    }
   ],
   "source": [
    "# strings Indexing and Slicing\n",
    "\n",
    "string = input('Enter the string:')\n",
    "\n",
    "\n",
    "''' \n",
    "H E L L O   W O R L D\n",
    "0 1 2 3 4 5 6 7 8 9 10 : L ---> R\n",
    "..............-3 -2 -1 : L ---> R\n",
    "\n",
    "'''\n",
    "\n",
    "print(string[6]) # Indexing\n",
    "print(string[-5]) #Indexing"
   ]
  },
  {
   "cell_type": "code",
   "execution_count": null,
   "id": "af62195e",
   "metadata": {},
   "outputs": [],
   "source": [
    "# concept of Slicing\n",
    "string = input('Enter the string :')\n",
    "''' \n",
    "string[staart:stop]\n",
    "Example:\n",
    "string =  Hello World \n",
    "string[1:4] ---> o/p: ---> ell\n",
    "'''\n",
    "print(string[1,-1])\n",
    "print(string[])\n"
   ]
  },
  {
   "cell_type": "code",
   "execution_count": null,
   "id": "a67575d3",
   "metadata": {},
   "outputs": [
    {
     "name": "stdout",
     "output_type": "stream",
     "text": [
      "el ol\n"
     ]
    }
   ],
   "source": [
    "# Concept of Slicing\n",
    "string = input('Enter the String:')\n",
    "''' \n",
    "string[start:stop:step]\n",
    "Example:\n",
    "string = Hello World\n",
    "string = Hello World\n",
    "string[1::2] ---> o/p: --> el\n",
    "\n",
    "'''\n",
    "\n",
    "print(string[1::2])"
   ]
  },
  {
   "cell_type": "code",
   "execution_count": null,
   "id": "6387f545",
   "metadata": {},
   "outputs": [
    {
     "name": "stdout",
     "output_type": "stream",
     "text": [
      "HloWloet h ol fpto rgamn\n",
      "o Welcome to the world of python programmi\n",
      "gnimmargorp nohtyp fo dlrow eht ot emocleW olleH\n"
     ]
    }
   ],
   "source": [
    "# Concept of Indexing and Slicing Together\n",
    "\n",
    "str = 'Hello Welcome to the world of python programming'\n",
    "print(str[::2])\n",
    "print(str[4:-2:])\n",
    "print(str[::-1])"
   ]
  },
  {
   "cell_type": "code",
   "execution_count": null,
   "id": "ab6364d1",
   "metadata": {},
   "outputs": [
    {
     "name": "stdout",
     "output_type": "stream",
     "text": [
      "[10, 20, 30, 40]\n",
      "<class 'list'>\n",
      "[10, 20, 30, 40, 50]\n"
     ]
    }
   ],
   "source": [
    "# Data Structure in python Programming\n",
    "''' \n",
    "1. List : [] : Mutable in Nature\n",
    "2. Tuple : () : Immutable in Nature\n",
    "3. Dictionary : {'key1': Value1, 'key2': value2} : Immutable in Nature\n",
    "4. Sets       : {1,2,3,4,5} : Immutable in Nature\n",
    "\n",
    "'''\n",
    "# List Definition \n",
    "\n",
    "lst =[10,20,30,40]\n",
    "\n",
    "print(lst)\n",
    "print(type(lst))\n",
    "# append() this is function which defined in class that\n",
    "# Therefore, append() is a method of class list\n",
    "#list .append(50) :You are calling function using. operator\n",
    "lst.append(50)\n",
    "print(lst) "
   ]
  },
  {
   "cell_type": "code",
   "execution_count": 12,
   "id": "3893d8b2",
   "metadata": {},
   "outputs": [
    {
     "name": "stdout",
     "output_type": "stream",
     "text": [
      "[5, 10, 20, [1, 2, 3, [10, 20, [30, [40, 50, [60], 70], 90], 9, 100], 1000], 2000, [10000]]\n"
     ]
    }
   ],
   "source": [
    "lst.insert(0,5) # This function will add the value 5 at an index 0\n",
    "print(lst) "
   ]
  },
  {
   "cell_type": "code",
   "execution_count": 13,
   "id": "85826ff6",
   "metadata": {},
   "outputs": [
    {
     "data": {
      "text/plain": [
       "1"
      ]
     },
     "execution_count": 13,
     "metadata": {},
     "output_type": "execute_result"
    }
   ],
   "source": [
    "lst.count(10) "
   ]
  },
  {
   "cell_type": "code",
   "execution_count": 14,
   "id": "fbc6c051",
   "metadata": {},
   "outputs": [
    {
     "data": {
      "text/plain": [
       "[10000]"
      ]
     },
     "execution_count": 14,
     "metadata": {},
     "output_type": "execute_result"
    }
   ],
   "source": [
    "lst.pop() # This function will remove the last number present in the list\n"
   ]
  },
  {
   "cell_type": "code",
   "execution_count": 15,
   "id": "b1bd6661",
   "metadata": {},
   "outputs": [
    {
     "name": "stdout",
     "output_type": "stream",
     "text": [
      "[5, 10, 20, [1, 2, 3, [10, 20, [30, [40, 50, [60], 70], 90], 9, 100], 1000], 2000]\n"
     ]
    }
   ],
   "source": [
    "print(lst) "
   ]
  },
  {
   "cell_type": "code",
   "execution_count": 17,
   "id": "11e04d83",
   "metadata": {},
   "outputs": [
    {
     "name": "stdout",
     "output_type": "stream",
     "text": [
      "[5, 20, [1, 2, 3, [10, 20, [30, [40, 50, [60], 70], 90], 9, 100], 1000], 2000]\n"
     ]
    }
   ],
   "source": [
    "lst.remove((10)) #function will remove the specified value \n",
    "print(lst)"
   ]
  },
  {
   "cell_type": "code",
   "execution_count": 5,
   "id": "69add643",
   "metadata": {},
   "outputs": [
    {
     "name": "stdout",
     "output_type": "stream",
     "text": [
      "[10, 10, 30, 30, 40, 20]\n"
     ]
    }
   ],
   "source": [
    "lst = [10,10,10,20,30,30,20,40,20,60]\n",
    "lst.pop()\n",
    "lst.remove(10)\n",
    "lst.remove(20)\n",
    "lst.remove(20)\n",
    "print(lst)\n"
   ]
  },
  {
   "cell_type": "code",
   "execution_count": 7,
   "id": "32cc2b53",
   "metadata": {},
   "outputs": [
    {
     "name": "stdout",
     "output_type": "stream",
     "text": [
      "[10, 30, 50]\n",
      "[60, 50, 40, 30, 20, 10]\n",
      "30\n"
     ]
    }
   ],
   "source": [
    "# Calculate lenght of the number present in list\n",
    "lst = [10,20,30,40,50,60]\n",
    "print(lst[0::2])\n",
    "print(lst[::-1])\n",
    "print(lst[2])"
   ]
  },
  {
   "cell_type": "code",
   "execution_count": null,
   "id": "1d911cf3",
   "metadata": {},
   "outputs": [
    {
     "data": {
      "text/plain": [
       "5"
      ]
     },
     "execution_count": 8,
     "metadata": {},
     "output_type": "execute_result"
    }
   ],
   "source": [
    "# Example 1\n",
    "lst = [10,20,30,[40,50,60],[1,[2,[3,4,5,6],7],8,9],10] \n",
    "lst[4][1][1][2] # o/p : 5"
   ]
  },
  {
   "cell_type": "code",
   "execution_count": 9,
   "id": "1e99397e",
   "metadata": {},
   "outputs": [],
   "source": [
    "# Example 2\n",
    "\n",
    "lst = [10,20,[1,2,3,[10,20,[30,[40,50,[60],70],90],9,100],1000],2000,[10000]]\n"
   ]
  },
  {
   "cell_type": "code",
   "execution_count": 11,
   "id": "ed235eef",
   "metadata": {},
   "outputs": [
    {
     "data": {
      "text/plain": [
       "60"
      ]
     },
     "execution_count": 11,
     "metadata": {},
     "output_type": "execute_result"
    }
   ],
   "source": [
    "# o/p: 60\n",
    "lst [2][3][2][1][2][0]"
   ]
  },
  {
   "cell_type": "code",
   "execution_count": 36,
   "id": "dfcc9857",
   "metadata": {},
   "outputs": [
    {
     "data": {
      "text/plain": [
       "600"
      ]
     },
     "execution_count": 36,
     "metadata": {},
     "output_type": "execute_result"
    }
   ],
   "source": [
    "# Example 3\n",
    "# o/p :600\n",
    "\n",
    "lst = [10,[100,200,300,[400,[500,[[[600],700,1],10],20]]]]\n",
    "                     \n",
    "lst[1][3][1][1][0][0][0]\n",
    "            "
   ]
  },
  {
   "cell_type": "code",
   "execution_count": null,
   "id": "d33cde59",
   "metadata": {},
   "outputs": [
    {
     "data": {
      "text/plain": [
       "1100"
      ]
     },
     "execution_count": 9,
     "metadata": {},
     "output_type": "execute_result"
    }
   ],
   "source": [
    "lst = [10,[100,200,300,[400,[500,[[[600,700,800,900,1000,1100,1200],700],1],10],20]]]\n",
    "lst[1][3][1][1][0][0][2:5]\n",
    "lst[1][3][1][1][0][0][:6][5]"
   ]
  },
  {
   "cell_type": "code",
   "execution_count": 5,
   "id": "6b661b6f",
   "metadata": {},
   "outputs": [
    {
     "name": "stdout",
     "output_type": "stream",
     "text": [
      "0\n",
      "2\n",
      "4\n",
      "6\n",
      "8\n"
     ]
    }
   ],
   "source": [
    "  # range(Start,Stop,Step)\n",
    "\n",
    "for i in range(0,10,2):\n",
    "   print(i)\n",
    "  "
   ]
  },
  {
   "cell_type": "code",
   "execution_count": 17,
   "id": "20f1af9a",
   "metadata": {},
   "outputs": [
    {
     "name": "stdout",
     "output_type": "stream",
     "text": [
      "0\n",
      "1\n",
      "2\n",
      "3\n",
      "4\n",
      "5\n"
     ]
    }
   ],
   "source": [
    "# Using While Loop\n",
    "num = 5\n",
    "count = 0\n",
    "while count <=num:\n",
    "    print(count)\n",
    "    count = count + 1"
   ]
  },
  {
   "cell_type": "code",
   "execution_count": 29,
   "id": "cdca1b48",
   "metadata": {},
   "outputs": [
    {
     "name": "stdout",
     "output_type": "stream",
     "text": [
      "0\n",
      "2\n",
      "4\n",
      "6\n",
      "8\n",
      "10\n"
     ]
    }
   ],
   "source": [
    "# Using while loop\n",
    "num = 10\n",
    "count = 0 \n",
    "while count <=num:\n",
    "    if count %2 == 0:\n",
    "        print(count)\n",
    "    count = count + 1"
   ]
  },
  {
   "cell_type": "code",
   "execution_count": 30,
   "id": "4498e262",
   "metadata": {},
   "outputs": [
    {
     "name": "stdout",
     "output_type": "stream",
     "text": [
      "18\n"
     ]
    }
   ],
   "source": [
    "for i in range(0,20,2):\n",
    "    continue\n",
    "print(i)"
   ]
  },
  {
   "cell_type": "code",
   "execution_count": null,
   "id": "f181bbfc",
   "metadata": {},
   "outputs": [],
   "source": [
    "for i in range(0,20,2):\n",
    "    pass\n",
    "print(i)"
   ]
  },
  {
   "cell_type": "code",
   "execution_count": 35,
   "id": "3ab185ff",
   "metadata": {},
   "outputs": [
    {
     "name": "stdout",
     "output_type": "stream",
     "text": [
      "0\n"
     ]
    }
   ],
   "source": [
    "for i in range(0,20,2):\n",
    "    break\n",
    "print(i)"
   ]
  },
  {
   "cell_type": "code",
   "execution_count": 38,
   "id": "73248b41",
   "metadata": {},
   "outputs": [
    {
     "name": "stdout",
     "output_type": "stream",
     "text": [
      "0\n",
      "1\n",
      "2\n",
      "3\n",
      "4\n",
      "5\n"
     ]
    }
   ],
   "source": [
    "for i in range(0,15):\n",
    "    if i<=5:\n",
    "        print(i)\n",
    "    continue"
   ]
  },
  {
   "cell_type": "code",
   "execution_count": 8,
   "id": "7b54e2c8",
   "metadata": {},
   "outputs": [
    {
     "name": "stdout",
     "output_type": "stream",
     "text": [
      "0\n"
     ]
    }
   ],
   "source": [
    "for i in range (0,15):\n",
    "    if i<=5:\n",
    "        print(i)\n",
    "    break"
   ]
  },
  {
   "cell_type": "code",
   "execution_count": 42,
   "id": "93a0cf95",
   "metadata": {},
   "outputs": [
    {
     "name": "stdout",
     "output_type": "stream",
     "text": [
      "0\n"
     ]
    }
   ],
   "source": [
    "for i in range(0,15):\n",
    "    if i<=5:\n",
    "        print(i)\n",
    "        break\n",
    "    continue"
   ]
  },
  {
   "cell_type": "code",
   "execution_count": 45,
   "id": "fbc93938",
   "metadata": {},
   "outputs": [
    {
     "name": "stdout",
     "output_type": "stream",
     "text": [
      "0\n",
      "10\n",
      "0\n",
      "11\n",
      "0\n",
      "12\n",
      "0\n",
      "13\n",
      "0\n",
      "14\n",
      "0\n",
      "15\n",
      "0\n",
      "16\n",
      "0\n",
      "17\n",
      "0\n",
      "18\n",
      "0\n",
      "19\n",
      "1\n",
      "10\n",
      "1\n",
      "11\n",
      "1\n",
      "12\n",
      "1\n",
      "13\n",
      "1\n",
      "14\n",
      "1\n",
      "15\n",
      "1\n",
      "16\n",
      "1\n",
      "17\n",
      "1\n",
      "18\n",
      "1\n",
      "19\n",
      "2\n",
      "10\n",
      "2\n",
      "11\n",
      "2\n",
      "12\n",
      "2\n",
      "13\n",
      "2\n",
      "14\n",
      "2\n",
      "15\n",
      "2\n",
      "16\n",
      "2\n",
      "17\n",
      "2\n",
      "18\n",
      "2\n",
      "19\n",
      "3\n",
      "10\n",
      "3\n",
      "11\n",
      "3\n",
      "12\n",
      "3\n",
      "13\n",
      "3\n",
      "14\n",
      "3\n",
      "15\n",
      "3\n",
      "16\n",
      "3\n",
      "17\n",
      "3\n",
      "18\n",
      "3\n",
      "19\n",
      "4\n",
      "10\n",
      "4\n",
      "11\n",
      "4\n",
      "12\n",
      "4\n",
      "13\n",
      "4\n",
      "14\n",
      "4\n",
      "15\n",
      "4\n",
      "16\n",
      "4\n",
      "17\n",
      "4\n",
      "18\n",
      "4\n",
      "19\n",
      "5\n",
      "10\n",
      "5\n",
      "11\n",
      "5\n",
      "12\n",
      "5\n",
      "13\n",
      "5\n",
      "14\n",
      "5\n",
      "15\n",
      "5\n",
      "16\n",
      "5\n",
      "17\n",
      "5\n",
      "18\n",
      "5\n",
      "19\n",
      "6\n",
      "10\n",
      "6\n",
      "11\n",
      "6\n",
      "12\n",
      "6\n",
      "13\n",
      "6\n",
      "14\n",
      "6\n",
      "15\n",
      "6\n",
      "16\n",
      "6\n",
      "17\n",
      "6\n",
      "18\n",
      "6\n",
      "19\n",
      "7\n",
      "10\n",
      "7\n",
      "11\n",
      "7\n",
      "12\n",
      "7\n",
      "13\n",
      "7\n",
      "14\n",
      "7\n",
      "15\n",
      "7\n",
      "16\n",
      "7\n",
      "17\n",
      "7\n",
      "18\n",
      "7\n",
      "19\n",
      "8\n",
      "10\n",
      "8\n",
      "11\n",
      "8\n",
      "12\n",
      "8\n",
      "13\n",
      "8\n",
      "14\n",
      "8\n",
      "15\n",
      "8\n",
      "16\n",
      "8\n",
      "17\n",
      "8\n",
      "18\n",
      "8\n",
      "19\n",
      "9\n",
      "10\n",
      "9\n",
      "11\n",
      "9\n",
      "12\n",
      "9\n",
      "13\n",
      "9\n",
      "14\n",
      "9\n",
      "15\n",
      "9\n",
      "16\n",
      "9\n",
      "17\n",
      "9\n",
      "18\n",
      "9\n",
      "19\n"
     ]
    }
   ],
   "source": [
    "for i in range(0,10):\n",
    "    for j in range(10,20):\n",
    "        print(i)\n",
    "        print(j)"
   ]
  },
  {
   "cell_type": "code",
   "execution_count": null,
   "id": "3e9045ed",
   "metadata": {},
   "outputs": [],
   "source": [
    "'''  \n",
    "num1\n",
    "num2\n",
    "choice = +,-,*,/\n",
    "\n",
    "num1 =\n",
    "num2 =\n",
    "choice =\n",
    "\n",
    "if choice == '+':\n",
    "  addition\n",
    "if choice == '-':\n",
    "  Substraction\n",
    "\n",
    "else:\n",
    " check the entered choice\n",
    "\n",
    "'''\n",
    "\n",
    "# \n",
    "\n",
    "num1 = float(input('Enter first num1:'))\n",
    "num2 = float(input(\"Enter second num2: \"))\n",
    "choice = input(\"Enter choice(+, -, *, /): \")\n",
    "\n",
    "if choice == '+':\n",
    "    print(\"Result:\", num1 + num2)\n",
    "elif choice == '-':\n",
    "    print(\"Result:\", num1 - num2)\n",
    "elif choice == '*':\n",
    "    print(\"Result:\", num1 * num2)\n",
    "elif choice == '/':\n",
    "    if num2 != 0:\n",
    "        print(\"Result:\", num1 / num2)\n",
    "    else:\n",
    "        print(\".\")\n",
    "else:\n",
    "    print(\"please enter the correct choice +, -, *, or /.\")\n"
   ]
  },
  {
   "cell_type": "code",
   "execution_count": 14,
   "id": "bcaf4a0f",
   "metadata": {},
   "outputs": [
    {
     "name": "stdout",
     "output_type": "stream",
     "text": [
      "Please check the choice\n"
     ]
    }
   ],
   "source": [
    "num1 = float(input('Enter first num1:'))\n",
    "num2 = float(input(\"Enter second num2: \"))\n",
    "choice = input(\"Enter choice(+, -, *, /): \")\n",
    "\n",
    "if choice == '+':\n",
    "    num3= num1+num2\n",
    "    print(f'the Addition of {num1} and {num2}',num3)\n",
    "elif choice == '-':\n",
    "    num3= num1-num2\n",
    "    print(f'the Substraction of {num1} and {num2}',num3)\n",
    "else:\n",
    "    print('Please check the choice')"
   ]
  }
 ],
 "metadata": {
  "kernelspec": {
   "display_name": "base",
   "language": "python",
   "name": "python3"
  },
  "language_info": {
   "codemirror_mode": {
    "name": "ipython",
    "version": 3
   },
   "file_extension": ".py",
   "mimetype": "text/x-python",
   "name": "python",
   "nbconvert_exporter": "python",
   "pygments_lexer": "ipython3",
   "version": "3.12.7"
  }
 },
 "nbformat": 4,
 "nbformat_minor": 5
}
