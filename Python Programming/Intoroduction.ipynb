{
 "cells": [
  {
   "cell_type": "markdown",
   "id": "9324004c",
   "metadata": {},
   "source": [
    "### Introduction to Python Programming\n",
    "\n"
   ]
  },
  {
   "cell_type": "code",
   "execution_count": null,
   "id": "468a2769",
   "metadata": {},
   "outputs": [
    {
     "name": "stdout",
     "output_type": "stream",
     "text": [
      "<class 'int'>\n",
      "<class 'float'>\n",
      "<class 'str'>\n"
     ]
    }
   ],
   "source": [
    "# Variable Defination\n",
    "number = 1000  # Defining Integer Variable\n",
    "decimal=1000.890   # Defining Float Variable : Decimal Values\n",
    "string='Hello World' #Defination String: \"Text Information\"\n",
    "\n",
    "'''\n",
    "\n",
    "Data  types in Python are as follows:\n",
    "1. Integer\n",
    "2. Float\n",
    "3. String \n",
    "\n",
    "'''\n",
    "# Checking Datatype of Variables\n",
    "print(type (number))\n",
    "print(type(decimal))\n",
    "print(type(string))\n",
    "\n"
   ]
  },
  {
   "cell_type": "code",
   "execution_count": null,
   "id": "1c8ddf6c-6afe-4d08-99c4-1ed9bdba19fb",
   "metadata": {},
   "outputs": [
    {
     "name": "stdout",
     "output_type": "stream",
     "text": [
      "100\n"
     ]
    }
   ],
   "source": [
    "#Type casting of data type\n",
    "num = 100.2908383 # Datatype : Float\n",
    "\n",
    "print(int(num)) # float is typecasted to int\n"
   ]
  },
  {
   "cell_type": "code",
   "execution_count": null,
   "id": "5a7a116a-399d-4d8b-9ba9-c34e29bc9b59",
   "metadata": {},
   "outputs": [
    {
     "name": "stdout",
     "output_type": "stream",
     "text": [
      "Enter the value: 1000\n"
     ]
    },
    {
     "name": "stdout",
     "output_type": "stream",
     "text": [
      "<class 'str'>\n",
      "1000\n",
      "1000.0\n"
     ]
    }
   ],
   "source": [
    "# Using inpu()\n",
    "num = input ('Enter the value:')\n",
    "'''\n",
    "Whenever we use input function, the out of input function is always string\n",
    "'''\n",
    "print(type(num))\n",
    "\n",
    "print(int(num)) \n",
    "print(float(num))\n",
    "\n",
    "      "
   ]
  },
  {
   "cell_type": "code",
   "execution_count": null,
   "id": "3f5c65a9-74fb-4799-9346-c82a7096fa5e",
   "metadata": {},
   "outputs": [
    {
     "name": "stdout",
     "output_type": "stream",
     "text": [
      "Enter the name of the person:  mihir ughade\n"
     ]
    },
    {
     "name": "stdout",
     "output_type": "stream",
     "text": [
      "<class 'str'>\n",
      "mihir ughade\n"
     ]
    }
   ],
   "source": [
    "# ask the user to enter the the string using input function \n",
    "str = input ('Enter the name of the person: ')\n",
    "print(type(str))\n",
    "print(str)"
   ]
  },
  {
   "cell_type": "code",
   "execution_count": 2,
   "id": "2968b77b",
   "metadata": {},
   "outputs": [
    {
     "name": "stdout",
     "output_type": "stream",
     "text": [
      "The addition of two numbers as 10.0 and 20.0 is 30.0\n"
     ]
    }
   ],
   "source": [
    " # Perform mathmatical Operations\n",
    "\n",
    "num1 = float(input('Enter the first Number:'))\n",
    "num2 = float(input('Enter  the first Number:'))\n",
    "\n",
    "num3 = num1 + num2\n",
    "\n",
    "# using fstring method\n",
    "\n",
    "print (f'The addition of two numbers as {num1} and {num2} is', num3)\n"
   ]
  },
  {
   "cell_type": "code",
   "execution_count": null,
   "id": "b7778d06",
   "metadata": {},
   "outputs": [
    {
     "name": "stdout",
     "output_type": "stream",
     "text": [
      "L\n",
      "R\n"
     ]
    }
   ],
   "source": [
    "# strings Indexing and Slicing\n",
    "\n",
    "string = input('Enter the string:')\n",
    "\n",
    "\n",
    "''' \n",
    "H E L L O   W O R L D\n",
    "0 1 2 3 4 5 6 7 8 9 10 : L ---> R\n",
    "..............-3 -2 -1 : L ---> R\n",
    "\n",
    "'''\n",
    "\n",
    "print(string[6]) # Indexing\n",
    "print(string[-5]) #Indexing"
   ]
  },
  {
   "cell_type": "code",
   "execution_count": null,
   "id": "af62195e",
   "metadata": {},
   "outputs": [],
   "source": [
    "# concept of Slicing\n",
    "string = input('Enter the string :')\n",
    "''' \n",
    "string[staart:stop]\n",
    "Example:\n",
    "string =  Hello World \n",
    "string[1:4] ---> o/p: ---> ell\n",
    "'''\n",
    "print(string[1,-1])\n",
    "print(string[])\n"
   ]
  },
  {
   "cell_type": "code",
   "execution_count": 2,
   "id": "a67575d3",
   "metadata": {},
   "outputs": [
    {
     "name": "stdout",
     "output_type": "stream",
     "text": [
      "el ol\n"
     ]
    }
   ],
   "source": [
    "# Concept of Slicing\n",
    "string = input('Enter the String:')\n",
    "''' \n",
    "string[start:stop:step]\n",
    "Example:\n",
    "string = Hello World\n",
    "string = Hello World\n",
    "string[1::2] ---> o/p: --> el\n",
    "\n",
    "'''\n",
    "\n",
    "print(string[1::2])"
   ]
  },
  {
   "cell_type": "code",
   "execution_count": 3,
   "id": "6387f545",
   "metadata": {},
   "outputs": [
    {
     "name": "stdout",
     "output_type": "stream",
     "text": [
      "HloWloet h ol fpto rgamn\n",
      "o Welcome to the world of python programmi\n",
      "gnimmargorp nohtyp fo dlrow eht ot emocleW olleH\n"
     ]
    }
   ],
   "source": [
    "# Concept of Indexing and Slicing Together\n",
    "\n",
    "str = 'Hello Welcome to the world of python programming'\n",
    "print(str[::2])\n",
    "print(str[4:-2:])\n",
    "print(str[::-1])"
   ]
  },
  {
   "cell_type": "code",
   "execution_count": 8,
   "id": "ab6364d1",
   "metadata": {},
   "outputs": [
    {
     "name": "stdout",
     "output_type": "stream",
     "text": [
      "[10, 20, 30, 40]\n",
      "<class 'list'>\n",
      "[10, 20, 30, 40, 50]\n"
     ]
    }
   ],
   "source": [
    "# Data Structure in python Programming\n",
    "''' \n",
    "1. List : [] : Mutable in Nature\n",
    "2. Tuple : () : Immutable in Nature\n",
    "3. Dictionary : {'key1': Value1, 'key2': value2} : Immutable in Nature\n",
    "4. Sets       : {1,2,3,4,5} : Immutable in Nature\n",
    "\n",
    "'''\n",
    "# List Definition \n",
    "\n",
    "lst =[10,20,30,40]\n",
    "\n",
    "print(lst)\n",
    "print(type(lst))\n",
    "# append() this is function which defined in class that\n",
    "# Therefore, append() is a method of class list\n",
    "#list .append(50) :You are calling function using. operator\n",
    "lst.append(50)\n",
    "print(lst) "
   ]
  },
  {
   "cell_type": "code",
   "execution_count": null,
   "id": "ae224758",
   "metadata": {},
   "outputs": [],
   "source": []
  }
 ],
 "metadata": {
  "kernelspec": {
   "display_name": "base",
   "language": "python",
   "name": "python3"
  },
  "language_info": {
   "codemirror_mode": {
    "name": "ipython",
    "version": 3
   },
   "file_extension": ".py",
   "mimetype": "text/x-python",
   "name": "python",
   "nbconvert_exporter": "python",
   "pygments_lexer": "ipython3",
   "version": "3.12.7"
  }
 },
 "nbformat": 4,
 "nbformat_minor": 5
}
